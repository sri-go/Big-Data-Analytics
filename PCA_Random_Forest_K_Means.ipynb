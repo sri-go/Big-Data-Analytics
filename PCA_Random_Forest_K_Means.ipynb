{
  "nbformat": 4,
  "nbformat_minor": 0,
  "metadata": {
    "celltoolbar": "Create Assignment",
    "colab": {
      "name": "PCA/Random Forest/K-Means",
      "provenance": [],
      "collapsed_sections": [],
      "toc_visible": true,
      "include_colab_link": true
    },
    "kernelspec": {
      "display_name": "Python 3",
      "language": "python",
      "name": "python3"
    },
    "language_info": {
      "codemirror_mode": {
        "name": "ipython",
        "version": 3
      },
      "file_extension": ".py",
      "mimetype": "text/x-python",
      "name": "python",
      "nbconvert_exporter": "python",
      "pygments_lexer": "ipython3",
      "version": "3.7.3"
    }
  },
  "cells": [
    {
      "cell_type": "markdown",
      "metadata": {
        "id": "view-in-github",
        "colab_type": "text"
      },
      "source": [
        "<a href=\"https://colab.research.google.com/github/sri-go/BigDataAnalytics/blob/master/PCA_Random_Forest_K_Means.ipynb\" target=\"_parent\"><img src=\"https://colab.research.google.com/assets/colab-badge.svg\" alt=\"Open In Colab\"/></a>"
      ]
    },
    {
      "cell_type": "markdown",
      "metadata": {
        "colab_type": "text",
        "id": "dkq9oiyfPQEr",
        "nbgrader": {
          "grade": false,
          "grade_id": "title",
          "locked": true,
          "schema_version": 3,
          "solution": false
        }
      },
      "source": [
        "# CIS 545 Homework 4: Amazon Review Analysis and Classification\n",
        "\n",
        "Your main training set for this assignment is the text from 100,000 reviews from Amazon.com, their timestamps, and their star ratings. The high level goal of this homework is to use the textual and temporal data to predict the star ratings.\n",
        "\n",
        "**Adventurers beware!** Analyzing this data in `sklearn` will likely kill your kernel because it may need to store 1.9 billion values. So instead we will use the package [gensim](https://radimrehurek.com/gensim/) for analysis. gensim specializes in efficient implementations of common modeling techniques for big text."
      ]
    },
    {
      "cell_type": "code",
      "metadata": {
        "colab_type": "code",
        "id": "nB-65mi_PQEu",
        "colab": {}
      },
      "source": [
        "# install stuff\n",
        "%%capture\n",
        "!pip install -U gensim\n",
        "!pip install urllib2"
      ],
      "execution_count": 0,
      "outputs": []
    },
    {
      "cell_type": "markdown",
      "metadata": {
        "colab_type": "text",
        "id": "3X5NKsi2Bwrh",
        "nbgrader": {
          "grade": false,
          "grade_id": "spec-0-0",
          "locked": true,
          "schema_version": 3,
          "solution": false,
          "task": false
        }
      },
      "source": [
        "Make sure the following line prints the up-to-date version of `gensim`, which at time of releasing this homework was version 3.8.1. If not, run the cell above again. If you don't do this, you may get different answers than us or have annoying error messages."
      ]
    },
    {
      "cell_type": "code",
      "metadata": {
        "colab_type": "code",
        "id": "XCZ2LpmRcSIX",
        "outputId": "2a894b20-463f-4cd0-dd41-7fddb04b196c",
        "colab": {
          "base_uri": "https://localhost:8080/",
          "height": 34
        }
      },
      "source": [
        "# check gensim version\n",
        "import gensim\n",
        "gensim.__version__"
      ],
      "execution_count": 0,
      "outputs": [
        {
          "output_type": "execute_result",
          "data": {
            "text/plain": [
              "'3.8.1'"
            ]
          },
          "metadata": {
            "tags": []
          },
          "execution_count": 2
        }
      ]
    },
    {
      "cell_type": "code",
      "metadata": {
        "colab_type": "code",
        "id": "Ngg1pmoZPQE4",
        "colab": {}
      },
      "source": [
        "# import stuff\n",
        "import numpy as np\n",
        "import pandas as pd\n",
        "import matplotlib.pyplot as plt\n",
        "import matplotlib.cm as cm\n",
        "\n",
        "from gensim import corpora\n",
        "from gensim.models import LsiModel, KeyedVectors\n",
        "from gensim.models.tfidfmodel import TfidfModel\n",
        "from gensim.models.nmf import Nmf\n",
        "\n",
        "import sklearn.model_selection as ms\n",
        "from sklearn.ensemble import RandomForestClassifier\n",
        "from sklearn.cluster import KMeans\n",
        "from sklearn.manifold import TSNE\n",
        "\n",
        "from datetime import *\n",
        "from operator import itemgetter\n"
      ],
      "execution_count": 0,
      "outputs": []
    },
    {
      "cell_type": "code",
      "metadata": {
        "id": "79R84xo4FESL",
        "colab_type": "code",
        "colab": {}
      },
      "source": [
        "%%capture\n",
        "!wget https://cis.upenn.edu/~cis545/data/reviews.dict\n",
        "!wget https://cis.upenn.edu/~cis545/data/train_reviews.mm\n",
        "!wget https://cis.upenn.edu/~cis545/data/train_times.npy"
      ],
      "execution_count": 0,
      "outputs": []
    },
    {
      "cell_type": "code",
      "metadata": {
        "colab_type": "code",
        "id": "vBLPPKcePQE9",
        "colab": {}
      },
      "source": [
        "reviews_dict = corpora.Dictionary.load(\"reviews.dict\")\n",
        "reviews_bow = corpora.MmCorpus('train_reviews.mm')\n",
        "reviews_times  = np.load('train_times.npy')\n",
        "reviews_times.shape = (len(reviews_bow),1)\n",
        "y = np.vstack((np.repeat(1, 4000), np.repeat(2, 4000), np.repeat(3, 4000), np.repeat(4, 4000), np.repeat(5, 4000)))\n",
        "y = np.repeat(y, 5)"
      ],
      "execution_count": 0,
      "outputs": []
    },
    {
      "cell_type": "markdown",
      "metadata": {
        "colab_type": "text",
        "id": "t0P6-gVuPQFE",
        "nbgrader": {
          "grade": false,
          "grade_id": "spec-0",
          "locked": true,
          "schema_version": 3,
          "solution": false
        }
      },
      "source": [
        "## Step 0: Explore the format\n",
        "\n",
        "We will start with exploring the format of all of the data files that we imported above. "
      ]
    },
    {
      "cell_type": "markdown",
      "metadata": {
        "colab_type": "text",
        "id": "5gkoN7m7XvZ0",
        "nbgrader": {
          "grade": false,
          "grade_id": "spec-0-1",
          "locked": true,
          "schema_version": 3,
          "solution": false,
          "task": false
        }
      },
      "source": [
        "### Step 0.1: gensim dictionary (lexicon)\n",
        "\n",
        "Most data science over text has some form of vocabulary. Simply put, you need to decide which words your model will care about. Very rare words, misspellings, numbers, and urls are good candidates for exclusion, especially since if the model needs any form of normalization, the time complexity of such computations is at least linear in the size of the vocabulary, if not worse.\n",
        "\n",
        "A lexicon associates each word in the vocabulary with an index. Since words are repeated, the model can save space by using the index for every repetition and only linking the index with the string form once. A `gensim` dictionary is special in that it is very fast and allows bidirectional lookups, namely, word to index and index to word.\n",
        "\n",
        "After reviewing the [documentation](https://radimrehurek.com/gensim/corpora/dictionary.html), rewrite the right hand side of each line in the cell below with the answers to these questions.\n",
        "\n",
        "1. In the `gensim` dictionary `reviews_dict`, what is the index of \"best\"? Look it up and store it in a variable named `best`. To clarify, if you find that 42 is the index of \"best\", change the line below so that it sets `best` equal to 42. Of course, you can do this with `best = 42` and earn full points, but it is a litte better to reuse the command with which you found the index. For example, if the `gensim` dictionary worked like a list of strings, you could do it with  \n",
        "`best = reviews_dict.iloc('best')`.\n",
        "2. What word belongs to index 1911? Look it up and store it in a variable named `onenineoneone`.\n",
        "3. What happens when you evaluate `reviews_dict[i]` for some variable `i`? If this returns the word associated with that index, set `idx2word` to `True`. Otherwise, set it to `False`. For example, if `reviews_dict['best']` equals `best`, `idx2word` should be `False`, but if `reviews_dict[1911]` equals `onenineoneone`, `idx2word` should be `True`.\n",
        "\n",
        "Hint: `token2id('best')` and `id2token(1911)` didn't work for me either. Keep trying!"
      ]
    },
    {
      "cell_type": "code",
      "metadata": {
        "colab_type": "code",
        "id": "JgQ1DMnnPQFI",
        "nbgrader": {
          "grade": false,
          "grade_id": "answer-0-1",
          "locked": false,
          "schema_version": 3,
          "solution": true
        },
        "colab": {}
      },
      "source": [
        "# answer 0.1\n",
        "best = reviews_dict.token2id['best']\n",
        "onenineoneone = list(reviews_dict.token2id.keys())[list(reviews_dict.token2id.values()).index(1911)]\n",
        "idx2word = True"
      ],
      "execution_count": 0,
      "outputs": []
    },
    {
      "cell_type": "markdown",
      "metadata": {
        "colab_type": "text",
        "id": "pAVMO7GZPQFp",
        "nbgrader": {
          "grade": false,
          "grade_id": "spec-0-2",
          "locked": true,
          "schema_version": 3,
          "solution": false
        }
      },
      "source": [
        "### Step 0.2: Look up individual reviews\n",
        "\n",
        "`gensim` represents everything in a **sparse** way. Namely, the representation of a review will be a variable-size list that contains counts of the words that _are present_ in the review. A **dense** representation, on the other hand, such as a matrix, would, in addition to the present words, contain zero counts for all of the words that are not in that particular review. For some examples, see [this tutorial](https://radimrehurek.com/gensim/auto_examples/core/run_core_concepts.html).\n",
        "\n",
        "But the optimizations don't stop there! `gensim` also saves space by not directly storing where one document ends and another begins. Such an implementation decision encourages users to stream the dataset through the user's pipeline, rather than attempt to read large chunks into memory. Put another way, you can iterate through the dataset using a loop or vectorized function, but you cannot index. In code:\n",
        "\n",
        "`for doc in corpus` works!\n",
        "\n",
        "`corpus[1911]` does not work!\n",
        "\n",
        "On some occasions, though, it would be convenient for us to, say, look up the 1911th document directly.\n",
        "\n",
        "So let's implement a function that iterates through the `gensim` `corpus`, collects every document whose index appears in `indices`, and returns that list of documents (subset of the dataset). For example, say we want the documents with the following indices: `indices = [0, 19, 11, 0]`. Then `lookup_docs` should return the 1st, 12th, and 20th documents, in that order.\n",
        "\n",
        "To emphasize, if an index appears multiple times in `indices`, just return one copy. And for consistency with our autograder, please return the documents in order of increasing index. That would be be like `corpus[0]`, then `corpus[11]`, then `corpus[19]` in our example. Of course, that way to reference them doesn't work, though!"
      ]
    },
    {
      "cell_type": "code",
      "metadata": {
        "colab_type": "code",
        "id": "-s5GeN5SKq2o",
        "nbgrader": {
          "grade": false,
          "grade_id": "answer-0-2",
          "locked": false,
          "schema_version": 3,
          "solution": true,
          "task": false
        },
        "colab": {}
      },
      "source": [
        "# answer 0.2 \n",
        "# TODO: Complete the function\n",
        "def lookup_docs(corpus, indices):\n",
        "    temp_list = []\n",
        "    #return document at index\n",
        "    for i, document in enumerate(corpus):\n",
        "        if i in indices:\n",
        "          temp_list.append(document)\n",
        "    return temp_list"
      ],
      "execution_count": 0,
      "outputs": []
    },
    {
      "cell_type": "markdown",
      "metadata": {
        "colab_type": "text",
        "id": "Nj5S7Kyy3yf8",
        "nbgrader": {
          "grade": false,
          "grade_id": "spec-0-2-1",
          "locked": true,
          "schema_version": 3,
          "solution": false,
          "task": false
        }
      },
      "source": [
        "Once you have written `lookup_docs`, you may run the cell below (no modification needed) to see how documents are represented in a gensim [corpus](https://radimrehurek.com/gensim/corpora/mmcorpus.html). In each review, `gensim` stores a tuple of size 2 for each distinct word in the review. The first number in the tuple is the index of the word in the dictionary and the second number in the tuple is the count of the times that word appeared in that review."
      ]
    },
    {
      "cell_type": "code",
      "metadata": {
        "colab_type": "code",
        "id": "3diZMuUOPQFx",
        "nbgrader": {
          "grade": true,
          "grade_id": "visible-test-0-2",
          "locked": true,
          "points": 1,
          "schema_version": 3,
          "solution": false,
          "task": false
        },
        "outputId": "92f27dde-75bb-4b3b-d85b-ef44c5e017d5",
        "colab": {
          "base_uri": "https://localhost:8080/",
          "height": 72
        }
      },
      "source": [
        "indices = [10,18]\n",
        "docs = lookup_docs(reviews_bow, indices)\n",
        "print(docs[0])\n",
        "print(docs[1])"
      ],
      "execution_count": 0,
      "outputs": [
        {
          "output_type": "stream",
          "text": [
            "[(2, 1.0), (21, 1.0), (23, 1.0), (55, 1.0), (72, 1.0), (79, 1.0), (108, 1.0), (121, 1.0), (138, 1.0), (144, 1.0), (176, 1.0), (238, 1.0), (258, 1.0), (266, 3.0), (267, 1.0), (268, 2.0), (269, 1.0), (270, 1.0), (271, 1.0), (272, 3.0), (273, 1.0), (274, 1.0), (275, 1.0), (276, 1.0), (277, 1.0), (278, 2.0), (279, 1.0), (280, 1.0), (281, 1.0), (282, 1.0)]\n",
            "[(5, 1.0), (11, 2.0), (14, 2.0), (17, 1.0), (24, 7.0), (30, 2.0), (31, 1.0), (49, 1.0), (50, 2.0), (51, 1.0), (60, 1.0), (71, 2.0), (82, 1.0), (87, 2.0), (105, 3.0), (144, 2.0), (164, 1.0), (165, 1.0), (177, 1.0), (179, 1.0), (181, 1.0), (186, 1.0), (218, 4.0), (224, 1.0), (233, 1.0), (241, 1.0), (258, 1.0), (348, 1.0), (373, 1.0), (379, 1.0), (382, 1.0), (383, 2.0), (384, 1.0), (385, 2.0), (386, 1.0), (387, 3.0), (388, 1.0), (389, 1.0), (390, 2.0), (391, 1.0), (392, 1.0), (393, 1.0), (394, 1.0), (395, 1.0), (396, 1.0), (397, 1.0), (398, 1.0), (399, 1.0)]\n"
          ],
          "name": "stdout"
        }
      ]
    },
    {
      "cell_type": "markdown",
      "metadata": {
        "colab_type": "text",
        "id": "gn0lzmyPaP5j",
        "nbgrader": {
          "grade": false,
          "grade_id": "spec-0-3",
          "locked": true,
          "schema_version": 3,
          "solution": false,
          "task": false
        }
      },
      "source": [
        "### Step 0.3: Make reviews more human-readable\n",
        "\n",
        "Now, we would like you to write a function that takes a `gensim` bag of words document and its corresponding dictionary as input and returns a \"translated\" version that is more readable. The reviews are already represented as bags of words, so recall that you cannot recover the order of the words in the reviews. But, we would like you to spell out the repeats of each word. So, if the original review were \"to be or not to be\", `reviews_bow` would have something like:\n",
        "\n",
        "`[(0, 2.0), (1, 1.0), (2, 1.0), (3, 2.0)]`\n",
        "\n",
        "and we would like you to return the string\n",
        "\n",
        "`\"be be not or to to\"`"
      ]
    },
    {
      "cell_type": "code",
      "metadata": {
        "colab_type": "code",
        "id": "H-XXZOTtaiAM",
        "nbgrader": {
          "grade": false,
          "grade_id": "answer-0-3",
          "locked": false,
          "schema_version": 3,
          "solution": true,
          "task": false
        },
        "outputId": "96053224-c50b-4d2b-e17a-fecaece55d2f",
        "colab": {
          "base_uri": "https://localhost:8080/",
          "height": 72
        }
      },
      "source": [
        "# answer 0.3\n",
        "# TODO: Complete the function\n",
        "def translate_review(review, reviews_dict):\n",
        "    temp_string = \"\"\n",
        "    i = 0\n",
        "    for index, count in review:\n",
        "      i = 0\n",
        "      while i < count:\n",
        "        temp_string += reviews_dict[index] + \" \"\n",
        "        i += 1\n",
        "    return temp_string\n",
        "\n",
        "readable_1 = translate_review(docs[0], reviews_dict)\n",
        "print(readable_1)\n",
        "\n",
        "readable_2 = translate_review(docs[1], reviews_dict)\n",
        "print(readable_2)"
      ],
      "execution_count": 0,
      "outputs": [
        {
          "output_type": "stream",
          "text": [
            "also hard just will replac use pet anyth time go stop want product cat cat cat cooler cut cut describ found groomer hair hair hair hot long need never poor shave shave shed summer though weather \n",
            "away chewer chewer destroy destroy fast kong kong kong kong kong kong kong mix mix money tore toy toy tri dog regular regular worth bought bought one one one go go fine first take within chew rip like like like like probabl thing care product look two pound big bone bone chase dachshund dachshund durabl extrem extrem extrem five flyer frisbe frisbe habit mine minut power pretti realli sure version wobbler \n"
          ],
          "name": "stdout"
        }
      ]
    },
    {
      "cell_type": "markdown",
      "metadata": {
        "colab_type": "text",
        "id": "-BJG91UHPQG6",
        "nbgrader": {
          "grade": false,
          "grade_id": "spec-0-4",
          "locked": true,
          "schema_version": 3,
          "solution": false
        }
      },
      "source": [
        "### Step 0.4: Parse review times\n",
        "\n",
        "It might be useful in predicting the scores of the reviews to know when the reviews were written. In this dataset, the day of the review was recorded as the number of seconds that passed between midnight on January 1, 1970 (the beginning of time for many computer systems) and the time the review was created. This may be efficient because it is one integer, but it is not very convenient. So we are going to convert these int objects to [datetime](https://docs.python.org/3/library/datetime.html) objects:\n",
        "\n",
        "**Do not change `review_times` in any way. Work with other variables instead.**"
      ]
    },
    {
      "cell_type": "markdown",
      "metadata": {
        "colab_type": "text",
        "id": "pjYIR8V960Hb",
        "nbgrader": {
          "grade": false,
          "grade_id": "spec-0-4-1",
          "locked": true,
          "schema_version": 3,
          "solution": false,
          "task": false
        }
      },
      "source": [
        "#### Step 0.4.1: Convert times vector\n",
        "\n",
        "The `convert_times` function should take in the entire `review_times` vector at once. It should return a new pandas `Series` object made from `review_times` but the entries should be of type `datetime` or `Timestamp`.\n",
        "\n",
        "Hint: You might find `datetime.fromtimestamp` to be useful."
      ]
    },
    {
      "cell_type": "code",
      "metadata": {
        "colab_type": "code",
        "id": "2AvvxOpjPQG9",
        "nbgrader": {
          "grade": false,
          "grade_id": "answer-0-4-1",
          "locked": false,
          "schema_version": 3,
          "solution": true
        },
        "colab": {}
      },
      "source": [
        "# answer 0.4.1\n",
        "# TODO: Complete the function\n",
        "def convert_times(reviews_times):\n",
        "    converted_time = []\n",
        "    for time in reviews_times:\n",
        "        converted_time.append(datetime.fromtimestamp(time))\n",
        "\n",
        "    converted_time = pd.Series(converted_time)\n",
        "    return converted_time"
      ],
      "execution_count": 0,
      "outputs": []
    },
    {
      "cell_type": "code",
      "metadata": {
        "id": "ZJuU3--pKap5",
        "colab_type": "code",
        "outputId": "b748dd1e-729c-434e-d4a7-f8c322fe2472",
        "colab": {
          "base_uri": "https://localhost:8080/",
          "height": 34
        }
      },
      "source": [
        "converted_times = convert_times(reviews_times)\n",
        "print(\"converted_times is a\", type(converted_times))"
      ],
      "execution_count": 0,
      "outputs": [
        {
          "output_type": "stream",
          "text": [
            "converted_times is a <class 'pandas.core.series.Series'>\n"
          ],
          "name": "stdout"
        }
      ]
    },
    {
      "cell_type": "markdown",
      "metadata": {
        "colab_type": "text",
        "id": "fyKf4Ryt7O6H",
        "nbgrader": {
          "grade": false,
          "grade_id": "spec-0-4-2",
          "locked": true,
          "schema_version": 3,
          "solution": false,
          "task": false
        }
      },
      "source": [
        "#### Step 0.4.2: Time math\n",
        "\n",
        "The `days_before` function should take in one time value (after applying `convert_times`) and return a new time value that is exactly `offset` days before the input.\n",
        "\n",
        "Hint: You might find `timedelta` to be useful."
      ]
    },
    {
      "cell_type": "code",
      "metadata": {
        "colab_type": "code",
        "id": "eYEkmo2d6NQn",
        "nbgrader": {
          "grade": false,
          "grade_id": "answer-0-4-2",
          "locked": false,
          "schema_version": 3,
          "solution": true,
          "task": false
        },
        "colab": {}
      },
      "source": [
        "# answer 0.4.2\n",
        "# TODO: Complete the function\n",
        "def days_before(time_item, offset):\n",
        "    offset_time = time_item - timedelta(offset)\n",
        "    return offset_time   "
      ],
      "execution_count": 0,
      "outputs": []
    },
    {
      "cell_type": "code",
      "metadata": {
        "colab_type": "code",
        "id": "7tJgAcauPQH1",
        "nbgrader": {
          "grade": true,
          "grade_id": "visible-test-0-4-2",
          "locked": true,
          "points": 0,
          "schema_version": 3,
          "solution": false
        },
        "outputId": "ed0607cd-c729-4a79-c547-4094ec8e3ed8",
        "colab": {
          "base_uri": "https://localhost:8080/",
          "height": 52
        }
      },
      "source": [
        "display(converted_times[0])\n",
        "forty_days_before_review_times_0 = days_before(converted_times[0], 40)\n",
        "display(forty_days_before_review_times_0)"
      ],
      "execution_count": 0,
      "outputs": [
        {
          "output_type": "display_data",
          "data": {
            "text/plain": [
              "Timestamp('2012-05-06 00:00:00')"
            ]
          },
          "metadata": {
            "tags": []
          }
        },
        {
          "output_type": "display_data",
          "data": {
            "text/plain": [
              "Timestamp('2012-03-27 00:00:00')"
            ]
          },
          "metadata": {
            "tags": []
          }
        }
      ]
    },
    {
      "cell_type": "markdown",
      "metadata": {
        "colab_type": "text",
        "id": "tywL0VjAbYMY",
        "nbgrader": {
          "grade": false,
          "grade_id": "spec-1",
          "locked": true,
          "schema_version": 3,
          "solution": false
        }
      },
      "source": [
        "## Step 1: How many components?\n",
        "\n",
        "We will need to perform dimesionality reduction on our dataset before we can proceed further with the supervised task of predicting the star ratings. One of the greatest benefits of gensim is that it can decompose a sparse dataset directly. Indeed, they post some impressive numbers about their SVD speed [here](https://radimrehurek.com/gensim/models/lsimodel.html)."
      ]
    },
    {
      "cell_type": "markdown",
      "metadata": {
        "colab_type": "text",
        "id": "u3W2ZOv0nlrE",
        "nbgrader": {
          "grade": false,
          "grade_id": "spec-1-1",
          "locked": true,
          "schema_version": 3,
          "solution": false,
          "task": false
        }
      },
      "source": [
        "### Step 1.1: PCA on raw counts\n",
        "\n",
        "We are first going to choose too many components deliberately, just to make sure that we see the whole picture. But note that 1000 components would still require us to store 100 million numbers. So that is probably too big for convenient exploration of the dataset."
      ]
    },
    {
      "cell_type": "markdown",
      "metadata": {
        "colab_type": "text",
        "id": "sxXINIEFABa6",
        "nbgrader": {
          "grade": false,
          "grade_id": "spec-1-1-1",
          "locked": true,
          "schema_version": 3,
          "solution": false,
          "task": false
        }
      },
      "source": [
        "#### Step 1.1.1: Train the PCA model\n",
        "\n",
        "Train a gensim `LsiModel` on `reviews_bow` using `reviews_dict` as the dictionary and 1000 components. This magic number is provided as `max_cutoff`. The API is [here](https://radimrehurek.com/gensim/models/lsimodel.html).\n",
        "\n",
        "**This step took about 4 minutes for my Colab instance to complete.**"
      ]
    },
    {
      "cell_type": "code",
      "metadata": {
        "colab_type": "code",
        "id": "rDRc0IRfbYMe",
        "nbgrader": {
          "grade": false,
          "grade_id": "answer-1-1-1",
          "locked": false,
          "schema_version": 3,
          "solution": true
        },
        "colab": {}
      },
      "source": [
        "# answer 1.1.1\n",
        "# TODO: Learn the syntax of the LsiModel command\n",
        "max_cutoff = 1000\n",
        "# TODO #\n",
        "model = LsiModel(reviews_bow, id2word=reviews_dict, num_topics=max_cutoff)"
      ],
      "execution_count": 0,
      "outputs": []
    },
    {
      "cell_type": "code",
      "metadata": {
        "id": "ziN2b9l3J5lP",
        "colab_type": "code",
        "outputId": "2bf26916-3c99-4222-d113-cb07f6fbed5e",
        "colab": {
          "base_uri": "https://localhost:8080/",
          "height": 52
        }
      },
      "source": [
        "print('Number of unique tokens: %d' % len(reviews_dict))\n",
        "print('Number of documents: %d' % len(reviews_bow))"
      ],
      "execution_count": 0,
      "outputs": [
        {
          "output_type": "stream",
          "text": [
            "Number of unique tokens: 18716\n",
            "Number of documents: 100000\n"
          ],
          "name": "stdout"
        }
      ]
    },
    {
      "cell_type": "markdown",
      "metadata": {
        "colab_type": "text",
        "id": "6Skq9LPDbYMn",
        "nbgrader": {
          "grade": false,
          "grade_id": "spec-1-1-2",
          "locked": true,
          "schema_version": 3,
          "solution": false
        }
      },
      "source": [
        "#### Step 1.1.2: Extract the singular values\n",
        "\n",
        "Look at the [API page](https://radimrehurek.com/gensim/models/lsimodel.html) to figure out how to get the singular values from a trained model. Feed those and `max_cutoff` to the `plot_variance_vs_components` function, which you do not have to edit."
      ]
    },
    {
      "cell_type": "code",
      "metadata": {
        "colab_type": "code",
        "id": "pfDFbW_qbYMq",
        "colab": {}
      },
      "source": [
        "def plot_variance_vs_components(singular_values, cutoff):\n",
        "    evr = np.array([singular_values[i]**2 / sum(singular_values**2) for i in range(cutoff)])\n",
        "    var = np.cumsum(evr*100)\n",
        "    plt.ylabel('% Variance Explained')\n",
        "    plt.xlabel('# of Components')\n",
        "    plt.title('PCA Analysis')\n",
        "    plt.style.context('seaborn-whitegrid')\n",
        "    plt.plot(var)"
      ],
      "execution_count": 0,
      "outputs": []
    },
    {
      "cell_type": "code",
      "metadata": {
        "colab_type": "code",
        "id": "HQHACc0ow6K5",
        "nbgrader": {
          "grade": false,
          "grade_id": "answer-1-1-2",
          "locked": false,
          "schema_version": 3,
          "solution": true,
          "task": false
        },
        "outputId": "fbc42ffb-47ab-4163-d47b-d25b591d7538",
        "colab": {
          "base_uri": "https://localhost:8080/",
          "height": 295
        }
      },
      "source": [
        "# answer 1.1.2\n",
        "# TODO: Plot variance versus number of components\n",
        "# TODO #\n",
        "singular_values = model.projection.s\n",
        "plot_variance_vs_components(singular_values, max_cutoff)"
      ],
      "execution_count": 0,
      "outputs": [
        {
          "output_type": "display_data",
          "data": {
            "image/png": "[encoded data removed]",
            "text/plain": [
              "<Figure size 432x288 with 1 Axes>"
            ]
          },
          "metadata": {
            "tags": []
          }
        }
      ]
    },
    {
      "cell_type": "markdown",
      "metadata": {
        "colab_type": "text",
        "id": "WLgVssiNbYMy",
        "nbgrader": {
          "grade": false,
          "grade_id": "spec-1-1-2-1",
          "locked": true,
          "schema_version": 3,
          "solution": false
        }
      },
      "source": [
        "The good news is this curve is very steep in the beginning, which shows that a lot of information is conveyed in the first components. However, there is no plateau that we can use to choose a cutoff!\n",
        "\n",
        "**So, let's go back to the dataset. Are the numbers in `reviews_bow` distributed sensibly?**"
      ]
    },
    {
      "cell_type": "markdown",
      "metadata": {
        "colab_type": "text",
        "id": "FqZ4vnCPn6O-",
        "nbgrader": {
          "grade": false,
          "grade_id": "spec-1-2",
          "locked": true,
          "schema_version": 3,
          "solution": false,
          "task": false
        }
      },
      "source": [
        "### Step 1.2: TF-IDF -- a better distribution\n",
        "\n",
        "The function below allows us to visualize the distribution of the values in the bag of words. You do not need to edit it. Recall that there are no zero values by nature of the sparse representation. The function has two convenient features:\n",
        "\n",
        "1. It allows you to transform the values uniformly using an optional second argument.\n",
        "2. By subtracting the mean, the new mean will line up with $x=0$."
      ]
    },
    {
      "cell_type": "code",
      "metadata": {
        "colab_type": "code",
        "id": "li80IItWzgsK",
        "colab": {}
      },
      "source": [
        "def plot_values(reviews, function=None):\n",
        "    values = []\n",
        "    for doc in reviews:\n",
        "        for (word, score) in doc:\n",
        "            if not function: values.append(score)\n",
        "            else:            values.append(function(score))\n",
        "\n",
        "    plt.hist(values - np.mean(values), bins='auto')\n",
        "    plt.show()"
      ],
      "execution_count": 0,
      "outputs": []
    },
    {
      "cell_type": "code",
      "metadata": {
        "colab_type": "code",
        "id": "sJRiDUPBfAiK",
        "outputId": "c1cd4290-ac17-4581-f66a-d54af9d649d3",
        "colab": {
          "base_uri": "https://localhost:8080/",
          "height": 265
        }
      },
      "source": [
        "plot_values(reviews_bow)"
      ],
      "execution_count": 0,
      "outputs": [
        {
          "output_type": "display_data",
          "data": {
            "image/png": "[encoded data removed]",
            "text/plain": [
              "<Figure size 432x288 with 1 Axes>"
            ]
          },
          "metadata": {
            "tags": []
          }
        }
      ]
    },
    {
      "cell_type": "markdown",
      "metadata": {
        "colab_type": "text",
        "id": "t8fdmx8CfQbY",
        "nbgrader": {
          "grade": false,
          "grade_id": "spec-1-2-1",
          "locked": true,
          "schema_version": 3,
          "solution": false,
          "task": false
        }
      },
      "source": [
        "It appears that our values are very highly skewed. Therefore, minmax and standard scaling would not (yet) be appropriate. Let's see if we can make it look better by log scaling the values:"
      ]
    },
    {
      "cell_type": "code",
      "metadata": {
        "colab_type": "code",
        "id": "3W-hAN9ZgMZw",
        "outputId": "45db9ee6-f2bd-4b08-a545-4f1efdad23c8",
        "colab": {
          "base_uri": "https://localhost:8080/",
          "height": 265
        }
      },
      "source": [
        "plot_values(reviews_bow, np.log)"
      ],
      "execution_count": 0,
      "outputs": [
        {
          "output_type": "display_data",
          "data": {
            "image/png": "[encoded data removed]",
            "text/plain": [
              "<Figure size 432x288 with 1 Axes>"
            ]
          },
          "metadata": {
            "tags": []
          }
        }
      ]
    },
    {
      "cell_type": "markdown",
      "metadata": {
        "colab_type": "text",
        "id": "bF81W6ETiivP",
        "nbgrader": {
          "grade": false,
          "grade_id": "spec-1-2-2",
          "locked": true,
          "schema_version": 3,
          "solution": false,
          "task": false
        }
      },
      "source": [
        "It is a little better, but only a little bit. Perhaps a double log?"
      ]
    },
    {
      "cell_type": "code",
      "metadata": {
        "colab_type": "code",
        "id": "Va1byrsCg-pa",
        "outputId": "eed55855-7ebf-42c2-8279-d1d925f3896b",
        "colab": {
          "base_uri": "https://localhost:8080/",
          "height": 265
        }
      },
      "source": [
        "plot_values(reviews_bow, lambda x: np.log(np.log(x+1)))"
      ],
      "execution_count": 0,
      "outputs": [
        {
          "output_type": "display_data",
          "data": {
            "image/png": "[encoded data removed]",
            "text/plain": [
              "<Figure size 432x288 with 1 Axes>"
            ]
          },
          "metadata": {
            "tags": []
          }
        }
      ]
    },
    {
      "cell_type": "markdown",
      "metadata": {
        "colab_type": "text",
        "id": "xKpC3bnGg4Yo",
        "nbgrader": {
          "grade": false,
          "grade_id": "spec-1-2-3",
          "locked": true,
          "schema_version": 3,
          "solution": false,
          "task": false
        }
      },
      "source": [
        "Still not so good. There are (at least) two outstanding issues with this distribution:\n",
        "\n",
        "1. The vast majority of words only occur once per review.\n",
        "2. In the rare case that a word occurs more than once, we can't tell if that is because it is especially important or because it is a common word, like a stop word.\n",
        "\n",
        "Therefore, we are going to convert our counts into [TF-IDF](https://en.wikipedia.org/wiki/Tf%E2%80%93idf) scores. Luckily, this is built in to `gensim` so this can be done in a couple lines of code. The API is [here](https://radimrehurek.com/gensim/models/tfidfmodel.html). Complete the function below that converts the data to TF-IDF scores. Note: that is a two step process. First, you need to initialize and fit a TF-IDF model to `reviews_bow`. (use default values for all hyperparameters **EXCEPT you should set `normalize=True`**). Then, you should apply your TF-IDF model to `reviews_bow` to transform it. Return the new version of the dataset."
      ]
    },
    {
      "cell_type": "code",
      "metadata": {
        "colab_type": "code",
        "id": "dhlmCiiTzgph",
        "nbgrader": {
          "grade": false,
          "grade_id": "answer-1-2",
          "locked": false,
          "schema_version": 3,
          "solution": true,
          "task": false
        },
        "colab": {}
      },
      "source": [
        "# answer 1.2\n",
        "# TODO: Complete the function\n",
        "def make_tfidf(reviews_bow):\n",
        "    model = TfidfModel(reviews_bow, normalize=True)\n",
        "    apply = model[reviews_bow]\n",
        "    return apply"
      ],
      "execution_count": 0,
      "outputs": []
    },
    {
      "cell_type": "code",
      "metadata": {
        "colab_type": "code",
        "id": "vFNBR3JTZDYs",
        "nbgrader": {
          "grade": true,
          "grade_id": "visible-test-1-2",
          "locked": true,
          "points": 1,
          "schema_version": 3,
          "solution": false,
          "task": false
        },
        "colab": {}
      },
      "source": [
        "reviews_tfidf = make_tfidf(reviews_bow)"
      ],
      "execution_count": 0,
      "outputs": []
    },
    {
      "cell_type": "code",
      "metadata": {
        "colab_type": "code",
        "id": "kN1R8-annaHN",
        "outputId": "b33824f1-9bb7-4248-ae88-e445b5f9edc1",
        "colab": {
          "base_uri": "https://localhost:8080/",
          "height": 265
        }
      },
      "source": [
        "plot_values(reviews_tfidf)"
      ],
      "execution_count": 0,
      "outputs": [
        {
          "output_type": "display_data",
          "data": {
            "image/png": "[encoded data removed]",
            "text/plain": [
              "<Figure size 432x288 with 1 Axes>"
            ]
          },
          "metadata": {
            "tags": []
          }
        }
      ]
    },
    {
      "cell_type": "markdown",
      "metadata": {
        "colab_type": "text",
        "id": "4XxMZv1Skwkn",
        "nbgrader": {
          "grade": false,
          "grade_id": "spec-1-2-4",
          "locked": true,
          "schema_version": 3,
          "solution": false,
          "task": false
        }
      },
      "source": [
        "This should look a lot better. Log scaling it may make the distribution look a bit more symmetrical, but this would come at the cost of collapsing some distinctions in the right tail, so we will not do it."
      ]
    },
    {
      "cell_type": "markdown",
      "metadata": {
        "colab_type": "text",
        "id": "wADH4r2VoIQE",
        "nbgrader": {
          "grade": false,
          "grade_id": "spec-1-3",
          "locked": true,
          "schema_version": 3,
          "solution": false,
          "task": false
        }
      },
      "source": [
        "### Step 1.3: PCA on TF-IDF scores\n",
        "\n",
        "Let's try the PCA again and plot a new variance versus number of components."
      ]
    },
    {
      "cell_type": "code",
      "metadata": {
        "colab_type": "code",
        "id": "eunxl15fzg0U",
        "nbgrader": {
          "grade": false,
          "grade_id": "answer-1-3",
          "locked": false,
          "schema_version": 3,
          "solution": true,
          "task": false
        },
        "outputId": "62314217-4aa6-4a27-ed4e-72cc667b62c0",
        "colab": {
          "base_uri": "https://localhost:8080/",
          "height": 295
        }
      },
      "source": [
        "# answer 1.3\n",
        "# TODO: Train an LsiModel and run the plot_variance_vs_components function\n",
        "# TODO #\n",
        "max_cutoff = 1000\n",
        "model = LsiModel(reviews_tfidf, id2word=reviews_dict, num_topics=max_cutoff)\n",
        "\n",
        "plot_variance_vs_components(singular_values=model.projection.s, cutoff=max_cutoff)"
      ],
      "execution_count": 0,
      "outputs": [
        {
          "output_type": "display_data",
          "data": {
            "image/png": "[encoded data removed]",
            "text/plain": [
              "<Figure size 432x288 with 1 Axes>"
            ]
          },
          "metadata": {
            "tags": []
          }
        }
      ]
    },
    {
      "cell_type": "markdown",
      "metadata": {
        "colab_type": "text",
        "id": "Vrhnv0Qh5RVQ",
        "nbgrader": {
          "grade": false,
          "grade_id": "spec-1-3-1",
          "locked": true,
          "schema_version": 3,
          "solution": false,
          "task": false
        }
      },
      "source": [
        "If anything, this graph is less helpful than before. **So, instead, we would like to use downstream performance of the classifier to tune this hyperparameter.** So let's build the remaining pieces that we need."
      ]
    },
    {
      "cell_type": "markdown",
      "metadata": {
        "colab_type": "text",
        "id": "0ErKk3gaPQIR",
        "nbgrader": {
          "grade": false,
          "grade_id": "spec-2",
          "locked": true,
          "schema_version": 3,
          "solution": false
        }
      },
      "source": [
        "## Step 2: Interface with sparse representations\n",
        "\n",
        "To get the real benefit of dimensionality reduction, it is important to consider which pieces of the decomposition are actually needed. Then, we can simply throw away the rest. To help you become familiar with the different pieces we will fully decompose and reconstruct the toy dataset of 5 computer science and 4 math article titles using `gensim`. It will be important later on that you only apply the functions that you write in this section to the pieces that you need on the big dataset."
      ]
    },
    {
      "cell_type": "markdown",
      "metadata": {
        "colab_type": "text",
        "id": "0hhoUvIZpr4d",
        "nbgrader": {
          "grade": false,
          "grade_id": "spec-2-0",
          "locked": true,
          "schema_version": 3,
          "solution": false,
          "task": false
        }
      },
      "source": [
        "### Step 2.0: The sparse toy dataset\n",
        "\n",
        "After lower casing, tokenizing, and stop wording, the corpus looks like `titles` in the cell below. Then, we create a dictionary and a sparse document-term matrix."
      ]
    },
    {
      "cell_type": "code",
      "metadata": {
        "colab_type": "code",
        "id": "XUluV0evPQIU",
        "outputId": "8029a520-4b60-45e8-8610-4bf966cc8500",
        "colab": {
          "base_uri": "https://localhost:8080/",
          "height": 174
        }
      },
      "source": [
        "titles = [['human', 'interface', 'computer'],\n",
        "          ['survey', 'user', 'computer', 'system', 'response', 'time'],\n",
        "          ['eps', 'user', 'interface', 'system'],\n",
        "          ['system', 'human', 'system', 'eps'],\n",
        "          ['user', 'response', 'time'],\n",
        "          ['trees'],\n",
        "          ['graph', 'trees'],\n",
        "          ['graph', 'minors', 'trees'],\n",
        "          ['graph', 'minors', 'survey']]\n",
        "\n",
        "titles_dict = corpora.Dictionary(titles)\n",
        "titles_bow = [titles_dict.doc2bow(title) for title in titles]\n",
        "display(titles_bow)"
      ],
      "execution_count": 0,
      "outputs": [
        {
          "output_type": "display_data",
          "data": {
            "text/plain": [
              "[[(0, 1), (1, 1), (2, 1)],\n",
              " [(0, 1), (3, 1), (4, 1), (5, 1), (6, 1), (7, 1)],\n",
              " [(2, 1), (5, 1), (7, 1), (8, 1)],\n",
              " [(1, 1), (5, 2), (8, 1)],\n",
              " [(3, 1), (6, 1), (7, 1)],\n",
              " [(9, 1)],\n",
              " [(9, 1), (10, 1)],\n",
              " [(9, 1), (10, 1), (11, 1)],\n",
              " [(4, 1), (10, 1), (11, 1)]]"
            ]
          },
          "metadata": {
            "tags": []
          }
        }
      ]
    },
    {
      "cell_type": "markdown",
      "metadata": {
        "colab_type": "text",
        "id": "gCJTCgU0PQIc",
        "nbgrader": {
          "grade": false,
          "grade_id": "spec-2-1",
          "locked": true,
          "schema_version": 3,
          "solution": false
        }
      },
      "source": [
        "### Step 2.1: Sparse to dense\n",
        "\n",
        "To get the term-document matrix that we have seen in lecture, we need to convert this matrix to its dense form. Write a function `densify` that takes as input:\n",
        "\n",
        "1. a sparse matrix in the format of `titles_bow` above\n",
        "3. an integer number of columns\n",
        "\n",
        "and returns a NumPy array. Note that `titles_bow` is a document-term matrix, not a term-document matrix, so we transpose it in the test cell to show the matrix from lecture (with the rows and columns slightly reordered).\n",
        "\n",
        "You may not use the `corpus2dense` function from `gensim`."
      ]
    },
    {
      "cell_type": "code",
      "metadata": {
        "colab_type": "code",
        "id": "iuzFAAekPQId",
        "nbgrader": {
          "grade": false,
          "grade_id": "answer-2-1",
          "locked": false,
          "schema_version": 3,
          "solution": true
        },
        "colab": {}
      },
      "source": [
        "# answer 2.1\n",
        "# TODO: Complete the function\n",
        "def densify(sparse, columns):\n",
        "    #initialize matrix in size of sparse matrix to 0s\n",
        "    return_mat = list()\n",
        "    for document in sparse:\n",
        "        dense_doc = np.zeros(columns)\n",
        "        #print(index)\n",
        "        for element, count in document:\n",
        "            #print(element, count)\n",
        "            dense_doc[element] = count\n",
        "            #print(dense_doc[element])\n",
        "        return_mat.append(dense_doc)\n",
        "    return np.array(return_mat)"
      ],
      "execution_count": 0,
      "outputs": []
    },
    {
      "cell_type": "code",
      "metadata": {
        "id": "YqFN9uR7wP6l",
        "colab_type": "code",
        "outputId": "72bbb5d4-6d6b-4b6d-e038-576037ca2072",
        "colab": {
          "base_uri": "https://localhost:8080/",
          "height": 174
        }
      },
      "source": [
        "td = densify(titles_bow, len(titles_dict))\n",
        "print(td)"
      ],
      "execution_count": 0,
      "outputs": [
        {
          "output_type": "stream",
          "text": [
            "[[1. 1. 1. 0. 0. 0. 0. 0. 0. 0. 0. 0.]\n",
            " [1. 0. 0. 1. 1. 1. 1. 1. 0. 0. 0. 0.]\n",
            " [0. 0. 1. 0. 0. 1. 0. 1. 1. 0. 0. 0.]\n",
            " [0. 1. 0. 0. 0. 2. 0. 0. 1. 0. 0. 0.]\n",
            " [0. 0. 0. 1. 0. 0. 1. 1. 0. 0. 0. 0.]\n",
            " [0. 0. 0. 0. 0. 0. 0. 0. 0. 1. 0. 0.]\n",
            " [0. 0. 0. 0. 0. 0. 0. 0. 0. 1. 1. 0.]\n",
            " [0. 0. 0. 0. 0. 0. 0. 0. 0. 1. 1. 1.]\n",
            " [0. 0. 0. 0. 1. 0. 0. 0. 0. 0. 1. 1.]]\n"
          ],
          "name": "stdout"
        }
      ]
    },
    {
      "cell_type": "code",
      "metadata": {
        "colab_type": "code",
        "id": "0PvkEMcyPQIi",
        "nbgrader": {
          "grade": true,
          "grade_id": "visible-test-2-1-1",
          "locked": true,
          "points": 1,
          "schema_version": 3,
          "solution": false
        },
        "outputId": "5fffc621-cd02-4a64-d9f7-141a185f3917",
        "colab": {
          "base_uri": "https://localhost:8080/",
          "height": 244
        }
      },
      "source": [
        "td = densify(titles_bow, len(titles_dict)).transpose()\n",
        "print(td)\n",
        "print(td.shape)"
      ],
      "execution_count": 0,
      "outputs": [
        {
          "output_type": "stream",
          "text": [
            "[[1. 1. 0. 0. 0. 0. 0. 0. 0.]\n",
            " [1. 0. 0. 1. 0. 0. 0. 0. 0.]\n",
            " [1. 0. 1. 0. 0. 0. 0. 0. 0.]\n",
            " [0. 1. 0. 0. 1. 0. 0. 0. 0.]\n",
            " [0. 1. 0. 0. 0. 0. 0. 0. 1.]\n",
            " [0. 1. 1. 2. 0. 0. 0. 0. 0.]\n",
            " [0. 1. 0. 0. 1. 0. 0. 0. 0.]\n",
            " [0. 1. 1. 0. 1. 0. 0. 0. 0.]\n",
            " [0. 0. 1. 1. 0. 0. 0. 0. 0.]\n",
            " [0. 0. 0. 0. 0. 1. 1. 1. 0.]\n",
            " [0. 0. 0. 0. 0. 0. 1. 1. 1.]\n",
            " [0. 0. 0. 0. 0. 0. 0. 1. 1.]]\n",
            "(12, 9)\n"
          ],
          "name": "stdout"
        }
      ]
    },
    {
      "cell_type": "markdown",
      "metadata": {
        "colab_type": "text",
        "id": "O5axMVwhPQN6",
        "nbgrader": {
          "grade": false,
          "grade_id": "spec-2-2",
          "locked": true,
          "schema_version": 3,
          "solution": false
        }
      },
      "source": [
        "### Step 2.2: Toy PCA reconstruction\n",
        "\n",
        "In the cell below, write a function called `reconstruction` that takes as input:\n",
        "\n",
        "1. a sparse matrix\n",
        "2. a gensim dictionary\n",
        "2. a cutoff for PCA\n",
        "\n",
        "The function should compute an `LsiModel` and reconstruct the original matrix. \n",
        "\n",
        "**There is something unexpected about the correct solution to this part!**\n",
        "\n",
        "Before turning to Piazza, print the dimensions of the pieces that you are working with, using `.shape`. What are the dimensions of the original? What are the dimensions of the outputs from `LsiModel`? How can you multiply the pieces together to get a match? You can do this! We have faith in you!\n",
        "\n",
        "Note that there could be a loss because the function only computes the part of the singular value decomposition that is needed according to `cutoff`. So after reconstructing, let's quantify the loss: compute the difference between the reconstructed matrix and the original. Then, take the Frobenius norm of that difference matrix. Divide by the Frobenius norm of the original. Make this the return value for the function.\n",
        "\n",
        "Hint: The right singular vectors ($V$ or `model[sparse]`) already contain the singular values ($S$ or `model.projection.s`) so don't include them again!"
      ]
    },
    {
      "cell_type": "code",
      "metadata": {
        "colab_type": "code",
        "id": "UtJAyg6SPQN8",
        "nbgrader": {
          "grade": false,
          "grade_id": "answer-2-2",
          "locked": false,
          "schema_version": 3,
          "solution": true
        },
        "colab": {}
      },
      "source": [
        "# answer 2.2\n",
        "# TODO: Complete the function\n",
        "def PCA_reconstruction(sparse, gsdict, cutoff):\n",
        "    model = LsiModel(sparse, id2word=gsdict, num_topics=cutoff)\n",
        "    \n",
        "    #PCA\n",
        "    s = model.projection.s\n",
        "    u =  model.projection.u\n",
        "    v = densify(model[sparse], len(model.projection.s))\n",
        "    v = v/model.projection.s\n",
        "    \n",
        "    #print('v: ',v)\n",
        "    #v2 = gensim.matutils.corpus2dense(model[sparse], len(model.projection.s)).T / model.projection.s\n",
        "    #print(v2)\n",
        "    v_transpose = np.transpose(v)\n",
        "    \n",
        "    #reconstruction of matrix\n",
        "    reconstructed_matrix_1 = u*s\n",
        "    reconstructed_matrix = np.dot(reconstructed_matrix_1, v_transpose)\n",
        "    \n",
        "    #calculate difference\n",
        "    difference = np.subtract(densify(sparse, len(gsdict)).T, reconstructed_matrix)\n",
        "    normalized = np.linalg.norm(difference)/np.linalg.norm(densify(sparse, len(gsdict)).T)\n",
        "    \n",
        "    return normalized"
      ],
      "execution_count": 0,
      "outputs": []
    },
    {
      "cell_type": "code",
      "metadata": {
        "colab_type": "code",
        "id": "Nn70AE0JPQOO",
        "nbgrader": {
          "grade": true,
          "grade_id": "visible-test-2-2",
          "locked": true,
          "points": 1,
          "schema_version": 3,
          "solution": false
        },
        "outputId": "dd3d5774-74f6-4546-d645-afc3b4083a42",
        "colab": {
          "base_uri": "https://localhost:8080/",
          "height": 177
        }
      },
      "source": [
        "for cutoff in range(2,10):\n",
        "    error = PCA_reconstruction(titles_bow, titles_dict, cutoff)\n",
        "    print(\"The reconstruction error with\", cutoff, \"components on the the toy dataset is\", error)"
      ],
      "execution_count": 0,
      "outputs": [
        {
          "output_type": "stream",
          "text": [
            "The reconstruction error with 2 components on the the toy dataset is 0.6569296073921537\n",
            "The reconstruction error with 3 components on the the toy dataset is 0.5028050894334115\n",
            "The reconstruction error with 4 components on the the toy dataset is 0.40690472991761817\n",
            "The reconstruction error with 5 components on the the toy dataset is 0.3041751002917942\n",
            "The reconstruction error with 6 components on the the toy dataset is 0.19357114561558483\n",
            "The reconstruction error with 7 components on the the toy dataset is 0.1199477595469945\n",
            "The reconstruction error with 8 components on the the toy dataset is 0.06531828869546437\n",
            "The reconstruction error with 9 components on the the toy dataset is 1.1237773338196317e-15\n"
          ],
          "name": "stdout"
        }
      ]
    },
    {
      "cell_type": "markdown",
      "metadata": {
        "colab_type": "text",
        "id": "5Rn49PaMlY-M",
        "nbgrader": {
          "grade": false,
          "grade_id": "spec-3",
          "locked": true,
          "schema_version": 3,
          "solution": false
        }
      },
      "source": [
        "## Step 3: Choose the number of components via the downstream task\n",
        "\n",
        "Using classification performance to choose the number of components is arguably even better than the plateau method, because we are optimizing directly on the downstream task rather than something intrinsic to the dataset. \n",
        "\n",
        "\n",
        "\n"
      ]
    },
    {
      "cell_type": "markdown",
      "metadata": {
        "colab_type": "text",
        "id": "qAbvT5iqrCI8",
        "nbgrader": {
          "grade": false,
          "grade_id": "spec-3-1",
          "locked": true,
          "schema_version": 3,
          "solution": false,
          "task": false
        }
      },
      "source": [
        "### Step 3.1 Train the random forest\n",
        "\n",
        "The code below:\n",
        "\n",
        "1. combines the review TF-IDF scores and the date information into one dataset\n",
        "2. splits off 20% of the training data as a validation set\n",
        "3. Initializes a random forest with 70 estimators\n",
        "\n",
        "To finish the pipeline, add the code that trains the [random forest](https://scikit-learn.org/stable/modules/generated/sklearn.ensemble.RandomForestClassifier.html) and computes the accuracy on the test set. Return that number as a real value between 0 and 1."
      ]
    },
    {
      "cell_type": "code",
      "metadata": {
        "colab_type": "code",
        "id": "acWFX8EsrCdM",
        "nbgrader": {
          "grade": false,
          "grade_id": "answer-3-1",
          "locked": false,
          "schema_version": 3,
          "solution": true,
          "task": false
        },
        "colab": {}
      },
      "source": [
        "# answer 3.1\n",
        "# TODO: Complete the function\n",
        "def evaluate_model(X, review_times, y):\n",
        "    X = np.hstack((X, review_times))\n",
        "    X_train, X_test, y_train, y_test = ms.train_test_split(X, y, test_size=0.2, random_state = 1911)\n",
        "    rfor = RandomForestClassifier(n_estimators=70, random_state=1911)\n",
        "    rfor.fit(X_train, y_train)\n",
        "    accuracy = rfor.score(X_test, y_test)\n",
        "    return accuracy"
      ],
      "execution_count": 0,
      "outputs": []
    },
    {
      "cell_type": "markdown",
      "metadata": {
        "colab_type": "text",
        "id": "XIy40pHYrClZ",
        "nbgrader": {
          "grade": false,
          "grade_id": "spec-3-2",
          "locked": true,
          "schema_version": 3,
          "solution": false,
          "task": false
        }
      },
      "source": [
        "### Step 3.2 Compare performance\n",
        "\n",
        "In the cell below, finish the `evaluate_cutoffs` function. The missing code should train an `LsiModel`, compute the $V$ matrix (right singular vectors), call `densify` on that, and pass the dense matrix to evaluate model. Store all of your accuracies in a list named `results`."
      ]
    },
    {
      "cell_type": "code",
      "metadata": {
        "colab_type": "code",
        "id": "VsfJ3KIglY-S",
        "nbgrader": {
          "grade": false,
          "grade_id": "answer-3-2",
          "locked": false,
          "schema_version": 3,
          "solution": true
        },
        "colab": {}
      },
      "source": [
        "# answer 3.2\n",
        "# TODO: Complete the function\n",
        "def evaluate_cutoffs(X_orig, X_dict, X_times, y, cutoffs):\n",
        "    results = []\n",
        "    for cutoff in cutoffs:\n",
        "        np.random.seed(1911)\n",
        "        model = LsiModel(X_orig, id2word=X_dict, num_topics=cutoff)\n",
        "        right_vecs = model[X_orig]\n",
        "\n",
        "        v = densify(right_vecs,cutoff)\n",
        "        \n",
        "        results.append(evaluate_model(v, X_times, y))\n",
        "\n",
        "    return results"
      ],
      "execution_count": 0,
      "outputs": []
    },
    {
      "cell_type": "markdown",
      "metadata": {
        "colab_type": "text",
        "id": "n6Wrw13-SXbE",
        "nbgrader": {
          "grade": false,
          "grade_id": "spec-3-2-1",
          "locked": true,
          "schema_version": 3,
          "solution": false,
          "task": false
        }
      },
      "source": [
        "**WARNING: The following cell should take a while to complete.**\n",
        "\n",
        "Each of the 30 models takes a minute or two, and the later ones are bigger (correspondingly slower). Therefore we are going to analyze your output for grading. Once you have a good idea about the best performing model in this set, give us that accuracy and we will check if it is in the expected range."
      ]
    },
    {
      "cell_type": "code",
      "metadata": {
        "colab_type": "code",
        "id": "VDAI7SAWbD1K",
        "colab": {}
      },
      "source": [
        "results = evaluate_cutoffs(reviews_tfidf, reviews_dict, reviews_times, y, range(10,40))"
      ],
      "execution_count": 0,
      "outputs": []
    },
    {
      "cell_type": "code",
      "metadata": {
        "colab_type": "code",
        "id": "7Gmo6qmvlY-f",
        "nbgrader": {
          "grade": true,
          "grade_id": "visible-test-3-2",
          "locked": true,
          "points": 1,
          "schema_version": 3,
          "solution": false
        },
        "outputId": "99ede0e6-6dcf-4f9b-b79f-1366b5e846b6",
        "colab": {
          "base_uri": "https://localhost:8080/",
          "height": 527
        }
      },
      "source": [
        "display(results)"
      ],
      "execution_count": 0,
      "outputs": [
        {
          "output_type": "display_data",
          "data": {
            "text/plain": [
              "[0.7596,\n",
              " 0.7645,\n",
              " 0.7751,\n",
              " 0.7777,\n",
              " 0.7795,\n",
              " 0.78515,\n",
              " 0.7852,\n",
              " 0.783,\n",
              " 0.79175,\n",
              " 0.792,\n",
              " 0.79325,\n",
              " 0.79575,\n",
              " 0.79315,\n",
              " 0.79495,\n",
              " 0.79655,\n",
              " 0.79615,\n",
              " 0.79375,\n",
              " 0.7959,\n",
              " 0.797,\n",
              " 0.79515,\n",
              " 0.796,\n",
              " 0.7969,\n",
              " 0.79625,\n",
              " 0.79855,\n",
              " 0.7954,\n",
              " 0.79595,\n",
              " 0.79645,\n",
              " 0.7972,\n",
              " 0.7953,\n",
              " 0.79505]"
            ]
          },
          "metadata": {
            "tags": []
          }
        }
      ]
    },
    {
      "cell_type": "markdown",
      "metadata": {
        "colab_type": "text",
        "id": "uxvkclGxs_s5",
        "nbgrader": {
          "grade": false,
          "grade_id": "spec-4",
          "locked": true,
          "schema_version": 3,
          "solution": false,
          "task": false
        }
      },
      "source": [
        "## Step 4: k-means clustering\n",
        "\n",
        "So far, we have one system for classifying the number of stars in a review. But maybe there are patterns that are only true for some subsets of the data? To uncover this, we would like to cluster the reviews."
      ]
    },
    {
      "cell_type": "markdown",
      "metadata": {
        "colab_type": "text",
        "id": "3Aaxrh3KuRZH",
        "nbgrader": {
          "grade": false,
          "grade_id": "spec-4-0",
          "locked": true,
          "schema_version": 3,
          "solution": false,
          "task": false
        }
      },
      "source": [
        "### Step 4.0: Which version of the data?\n",
        "\n",
        "Recall that k-means has a runtime complexity with the strongest term proportional to:\n",
        "\n",
        "(# of dimensions)(# of points)(# of clusters)(# of iterations)(# of restarts)\n",
        "\n",
        "Let's focus on the first three terms. The number of points is 100,000, which is pretty large. Therefore, we will have to be especially careful with the number of dimensions and clusters.\n",
        "\n",
        "In the previous steps, we generated dimensionality-reduced versions of the dataset. While they did not capture a large, satisfying percentage of the variance in the reviews, the random forest classifier hinted that relatively few principal components were enough to capture the relevant variance for classifying star ratings. Specifically, my random forest seemed to hit a performance ceiling somewhat before reaching 40 components. Therefore, let's use the TF-IDF version with 40 components.\n",
        "\n",
        "In the cell below, add the code that trains the `LsiModel`, computes the right singular vectors, and densifies these projections. Store this dimensionality-reduced dataset as `X`. What are the expected dimensions?"
      ]
    },
    {
      "cell_type": "code",
      "metadata": {
        "colab_type": "code",
        "id": "3xSUnNABs0ux",
        "nbgrader": {
          "grade": false,
          "grade_id": "answer-4-0",
          "locked": false,
          "schema_version": 3,
          "solution": true,
          "task": false
        },
        "colab": {}
      },
      "source": [
        "# answer 4.0\n",
        "# TODO: Reduce the dimensions of the dataset\n",
        "cutoff = 40\n",
        "np.random.seed(1911)\n",
        "model = LsiModel(reviews_tfidf, id2word=reviews_dict, num_topics=cutoff)\n",
        "right_vecs = model[reviews_tfidf]\n",
        "X = densify(right_vecs, cutoff)"
      ],
      "execution_count": 0,
      "outputs": []
    },
    {
      "cell_type": "code",
      "metadata": {
        "colab_type": "code",
        "id": "NwoSMd8e4inF",
        "nbgrader": {
          "grade": true,
          "grade_id": "visible-test-4-0",
          "locked": true,
          "points": 1,
          "schema_version": 3,
          "solution": false,
          "task": false
        },
        "outputId": "6070ac71-372d-4241-bccd-c8daeea90142",
        "colab": {
          "base_uri": "https://localhost:8080/",
          "height": 34
        }
      },
      "source": [
        "X.shape"
      ],
      "execution_count": 0,
      "outputs": [
        {
          "output_type": "execute_result",
          "data": {
            "text/plain": [
              "(100000, 40)"
            ]
          },
          "metadata": {
            "tags": []
          },
          "execution_count": 47
        }
      ]
    },
    {
      "cell_type": "markdown",
      "metadata": {
        "colab_type": "text",
        "id": "zGtBAayHyFOP",
        "nbgrader": {
          "grade": false,
          "grade_id": "spec-4-1",
          "locked": true,
          "schema_version": 3,
          "solution": false,
          "task": false
        }
      },
      "source": [
        "### Step 4.1: Collect SSWs\n",
        "\n",
        "In the cell below, the function called `test_cluster_size` iterates over the numbers of clusters in the array `num_clusters`. The function takes as input (1) the data as a matrix and (2) the `num_clusters` array. \n",
        "\n",
        "Add the missing code that should cluster the data using k-means and store the $SS_W$ values.\n",
        "\n",
        "Note from the `sklearn.cluster` documentation on __[k-means](http://scikit-learn.org/stable/modules/generated/sklearn.cluster.KMeans.html)__:\n",
        "\n",
        "Attributes:\t\n",
        "* `cluster_centers_` : array, [n_clusters, n_features]\n",
        " Coordinates of cluster centers\n",
        "\n",
        "* `labels_` :\n",
        "Labels of each point\n",
        "\n",
        "* `inertia_` :\n",
        "Sum of squared distances between data points and their cluster centers\n",
        "\n",
        "Finally, return a list of $SS_W$ values using the attributes above."
      ]
    },
    {
      "cell_type": "code",
      "metadata": {
        "colab_type": "code",
        "id": "I4aay58hs0xr",
        "nbgrader": {
          "grade": false,
          "grade_id": "answer-4-1",
          "locked": false,
          "schema_version": 3,
          "solution": true,
          "task": false
        },
        "colab": {}
      },
      "source": [
        "# answer 4.1\n",
        "# TODO: Complete the function\n",
        "def test_cluster_size(data, num_clusters):\n",
        "    scores = []\n",
        "    for i in num_clusters:\n",
        "        km = KMeans(n_clusters=i, init='k-means++', n_init=30, max_iter=10, \n",
        "                    tol=1e-4, random_state=1911, n_jobs=1)\n",
        "        km.fit(data)\n",
        "        scores.append(km.inertia_)\n",
        "        print(i, km.inertia_)\n",
        "    return scores"
      ],
      "execution_count": 0,
      "outputs": []
    },
    {
      "cell_type": "markdown",
      "metadata": {
        "colab_type": "text",
        "id": "x1Nn47RSV7iO",
        "nbgrader": {
          "grade": false,
          "grade_id": "spec-4-1-1",
          "locked": true,
          "schema_version": 3,
          "solution": false,
          "task": false
        }
      },
      "source": [
        "The cell below also takes a while to run because it is going to cluster the data 38 times."
      ]
    },
    {
      "cell_type": "code",
      "metadata": {
        "colab_type": "code",
        "id": "Fjk1iQIkZjUz",
        "nbgrader": {
          "grade": true,
          "grade_id": "visible-test-4-1-1",
          "locked": true,
          "points": 1,
          "schema_version": 3,
          "solution": false,
          "task": false
        },
        "outputId": "3e7b48a9-8a9e-41ca-9af9-6a474a83353d",
        "colab": {
          "base_uri": "https://localhost:8080/",
          "height": 663
        }
      },
      "source": [
        "num_clusters = range(2, 40)\n",
        "ssws41 = test_cluster_size(X, num_clusters)"
      ],
      "execution_count": 0,
      "outputs": [
        {
          "output_type": "stream",
          "text": [
            "2 7326.355552009711\n",
            "3 7020.374967016055\n",
            "4 6758.264242421535\n",
            "5 6542.278144532352\n",
            "6 6357.090171621356\n",
            "7 6219.503829444963\n",
            "8 6022.030964833687\n",
            "9 5885.48682649813\n",
            "10 5695.875736431113\n",
            "11 5598.719683754422\n",
            "12 5483.478074844773\n",
            "13 5316.818493505349\n",
            "14 5202.554284904377\n",
            "15 5078.939036475193\n",
            "16 4962.923039271672\n",
            "17 4827.391509020273\n",
            "18 4759.02286028485\n",
            "19 4605.578043634226\n",
            "20 4536.233866005755\n",
            "21 4424.955524376222\n",
            "22 4286.633268048172\n",
            "23 4235.7421792448395\n",
            "24 4124.956824613648\n",
            "25 4074.3468179494516\n",
            "26 3971.662110566024\n",
            "27 3877.435908684587\n",
            "28 3815.033003032587\n",
            "29 3754.5461110824767\n",
            "30 3664.2960001586202\n",
            "31 3593.043471684952\n",
            "32 3530.7760045989608\n",
            "33 3478.1663722065773\n",
            "34 3399.8122951936184\n",
            "35 3359.5772486801748\n",
            "36 3324.813200453021\n",
            "37 3230.960131693706\n",
            "38 3196.168378318784\n",
            "39 3134.737455931421\n"
          ],
          "name": "stdout"
        }
      ]
    },
    {
      "cell_type": "code",
      "metadata": {
        "colab_type": "code",
        "id": "mM73T_791b5F",
        "nbgrader": {
          "grade": true,
          "grade_id": "visible-test-4-1-2",
          "locked": true,
          "points": 1,
          "schema_version": 3,
          "solution": false,
          "task": false
        },
        "outputId": "65f93030-15f9-451e-9a1e-e107035fc98d",
        "colab": {
          "base_uri": "https://localhost:8080/",
          "height": 663
        }
      },
      "source": [
        "display(ssws41)\n",
        "if (len(ssws41) != 38):\n",
        "    raise ValueError(\"Did not compute SSWs for the given values of k.\")"
      ],
      "execution_count": 0,
      "outputs": [
        {
          "output_type": "display_data",
          "data": {
            "text/plain": [
              "[7326.355552009711,\n",
              " 7020.374967016055,\n",
              " 6758.264242421535,\n",
              " 6542.278144532352,\n",
              " 6357.090171621356,\n",
              " 6219.503829444963,\n",
              " 6022.030964833687,\n",
              " 5885.48682649813,\n",
              " 5695.875736431113,\n",
              " 5598.719683754422,\n",
              " 5483.478074844773,\n",
              " 5316.818493505349,\n",
              " 5202.554284904377,\n",
              " 5078.939036475193,\n",
              " 4962.923039271672,\n",
              " 4827.391509020273,\n",
              " 4759.02286028485,\n",
              " 4605.578043634226,\n",
              " 4536.233866005755,\n",
              " 4424.955524376222,\n",
              " 4286.633268048172,\n",
              " 4235.7421792448395,\n",
              " 4124.956824613648,\n",
              " 4074.3468179494516,\n",
              " 3971.662110566024,\n",
              " 3877.435908684587,\n",
              " 3815.033003032587,\n",
              " 3754.5461110824767,\n",
              " 3664.2960001586202,\n",
              " 3593.043471684952,\n",
              " 3530.7760045989608,\n",
              " 3478.1663722065773,\n",
              " 3399.8122951936184,\n",
              " 3359.5772486801748,\n",
              " 3324.813200453021,\n",
              " 3230.960131693706,\n",
              " 3196.168378318784,\n",
              " 3134.737455931421]"
            ]
          },
          "metadata": {
            "tags": []
          }
        }
      ]
    },
    {
      "cell_type": "markdown",
      "metadata": {
        "colab_type": "text",
        "id": "kF4dj3Jc0yx5",
        "nbgrader": {
          "grade": false,
          "grade_id": "spec-4-2",
          "locked": true,
          "schema_version": 3,
          "solution": false,
          "task": false
        }
      },
      "source": [
        "### Step 4.2: Find the elbow?\n",
        "\n",
        "The following provided code helps you plot the number of clusters (from 2 to 40) versus $SS_W$. You do not need to modify these two cells.\n",
        "\n"
      ]
    },
    {
      "cell_type": "code",
      "metadata": {
        "colab_type": "code",
        "id": "8Xu7aLb1s00U",
        "colab": {}
      },
      "source": [
        "def plot_clusters(num_clusters, distortions):\n",
        "    plt.figure()\n",
        "    plt.xlabel('Number of Clusters')\n",
        "    plt.ylabel('Distortion')\n",
        "    plt.title('Cluster Analysis')\n",
        "    plt.style.context('seaborn-whitegrid')\n",
        "    plt.plot(num_clusters, distortions)\n",
        "    plt.show()"
      ],
      "execution_count": 0,
      "outputs": []
    },
    {
      "cell_type": "code",
      "metadata": {
        "colab_type": "code",
        "id": "5jjS_CQzXUQY",
        "outputId": "cddecf69-d9f5-42ec-d572-3e8cf6ab3742",
        "colab": {
          "base_uri": "https://localhost:8080/",
          "height": 397
        }
      },
      "source": [
        "plot_clusters(num_clusters, ssws41)\n",
        "ssws41[0:6]"
      ],
      "execution_count": 0,
      "outputs": [
        {
          "output_type": "display_data",
          "data": {
            "image/png": "[encoded data removed]",
            "text/plain": [
              "<Figure size 432x288 with 1 Axes>"
            ]
          },
          "metadata": {
            "tags": []
          }
        },
        {
          "output_type": "execute_result",
          "data": {
            "text/plain": [
              "[7326.355552009711,\n",
              " 7020.374967016055,\n",
              " 6758.264242421535,\n",
              " 6542.278144532352,\n",
              " 6357.090171621356,\n",
              " 6219.503829444963]"
            ]
          },
          "metadata": {
            "tags": []
          },
          "execution_count": 54
        }
      ]
    },
    {
      "cell_type": "markdown",
      "metadata": {
        "colab_type": "text",
        "id": "CZonCmMEWvbH"
      },
      "source": [
        "Do you see a clear \"elbow\" in this graph??\n",
        "\n",
        "Probably not.\n",
        "\n",
        "Just so we can test your solution, we will mathematically define elbow as:\n",
        "\n",
        "$$\\hat{k}_{SSW} = \\underset{k}{\\operatorname{argmin}} (SS_W(k) - SS_W(k+1))$$\n",
        "\n",
        "This is not a perfect mathematical definition because it does not take into account how much $SS_W$ dropped before the selected point. But for this dataset, it does provide one consistent answer.\n",
        "\n",
        "In the cell below, complete the function that implements this mathematical definition. Note that we only pass in the list of distortion values. \n",
        "\n",
        "**So the function should return the index of the selected number of clusters!!**\n",
        "\n",
        "Look at the visible test for this subsection to see how we ultimately assign the value of $k$."
      ]
    },
    {
      "cell_type": "code",
      "metadata": {
        "colab_type": "code",
        "id": "lyWFRaX8W1OB",
        "nbgrader": {
          "grade": false,
          "grade_id": "answer-4-2",
          "locked": false,
          "schema_version": 3,
          "solution": true,
          "task": false
        },
        "colab": {}
      },
      "source": [
        "# answer 4.2\n",
        "# TODO: Complete the function\n",
        "def sharpest(distortions):\n",
        "    temp_list = []\n",
        "    count = 1\n",
        "    for value in range(0,len(distortions)):\n",
        "       if value < 37:\n",
        "           k = distortions[value] - distortions[count]\n",
        "           count += 1\n",
        "           temp_list.append(k)\n",
        "           \n",
        "    index = temp_list.index(min(temp_list))       \n",
        "    print(index)\n",
        "    return index"
      ],
      "execution_count": 0,
      "outputs": []
    },
    {
      "cell_type": "code",
      "metadata": {
        "colab_type": "code",
        "id": "NodsP9TEXnBm",
        "nbgrader": {
          "grade": true,
          "grade_id": "visible-test-4-2",
          "locked": true,
          "points": 1,
          "schema_version": 3,
          "solution": false,
          "task": false
        },
        "outputId": "b6beb69b-01fe-459e-83a5-ff63d19ba416",
        "colab": {
          "base_uri": "https://localhost:8080/",
          "height": 51
        }
      },
      "source": [
        "khat42 = num_clusters[sharpest(ssws41)]\n",
        "print(\"I have chosen to have\", khat42, \"clusters.\")\n",
        "if ((khat42 < 2) or (khat42 > 39)):\n",
        "    raise ValueError('k hat is not in the right range')"
      ],
      "execution_count": 0,
      "outputs": [
        {
          "output_type": "stream",
          "text": [
            "33\n",
            "I have chosen to have 35 clusters.\n"
          ],
          "name": "stdout"
        }
      ]
    },
    {
      "cell_type": "markdown",
      "metadata": {
        "colab_type": "text",
        "id": "RkZhBXB12L0e",
        "nbgrader": {
          "grade": false,
          "grade_id": "spec-4-3",
          "locked": true,
          "schema_version": 3,
          "solution": false,
          "task": false
        }
      },
      "source": [
        "### Step 4.3: The Variance Ratio Criterion\n",
        "\n",
        "Perhaps we can shift to a different cluster evaluation metric that gives a more satisfying suggestion for the number of clusters.\n",
        "\n",
        "Recall the Variance Ratio Criterion ($VRC$), given by\n",
        "\n",
        "$$ VRC(k) = \\frac{SS_B}{k-1} / \\frac{SS_W}{N - k}$$\n",
        "\n",
        "where $SS_B$ is the sum of squared distance between the cluster centers and the grand mean (calculated per data point), $k$ is the number of clusters, $SS_W$ is the sum of squared distance between data points and their assigned cluster centers, and $N$ is the number of data points."
      ]
    },
    {
      "cell_type": "markdown",
      "metadata": {
        "colab_type": "text",
        "id": "IHvHvApo2vT7",
        "nbgrader": {
          "grade": false,
          "grade_id": "spec-4-3-0",
          "locked": true,
          "schema_version": 3,
          "solution": false,
          "task": false
        }
      },
      "source": [
        "#### Step 4.3.0: The grand mean\n",
        "\n",
        "Before we apply the full formula, please compute the grand mean of the dataset. What does this represent?\n"
      ]
    },
    {
      "cell_type": "code",
      "metadata": {
        "colab_type": "code",
        "id": "NNY-f2PT2v7w",
        "nbgrader": {
          "grade": false,
          "grade_id": "answer-4-3-0",
          "locked": false,
          "schema_version": 3,
          "solution": true,
          "task": false
        },
        "colab": {}
      },
      "source": [
        "# answer 4.3.0\n",
        "# TODO: Compute grand_mean\n",
        "# TODO #\n",
        "grand_mean = np.mean(X, axis = 0)"
      ],
      "execution_count": 0,
      "outputs": []
    },
    {
      "cell_type": "markdown",
      "metadata": {
        "colab_type": "text",
        "id": "9QZjpw-paikZ",
        "nbgrader": {
          "grade": false,
          "grade_id": "spec-4-3-1",
          "locked": true,
          "schema_version": 3,
          "solution": false,
          "task": false
        }
      },
      "source": [
        "#### Step 4.3.1: Interpret the grand mean\n",
        "\n",
        "The grand mean is the text of the \"average\" review on Amazon. Let's figure out what that is a bit more precisely for this dataset. The function below finds real data points, i.e. real reviews, that are the closest neighbors to a given vector (`item`). `X_proj` is the dataset, `mask` is a list of booleans stating whether each item in the dataset is an eligible neighbor (we need this later), and `k` is the number of neighbors we would like to find. Write the missing code which should:\n",
        "\n",
        "1. Normalize `item` by its Frobenius norm.\n",
        "2. Loop through the dataset. Exclude the items that have a corresponding `False` value in `mask`.\n",
        "3. For each eligible item in the dataset, compute the [cosine similarity](https://en.wikipedia.org/wiki/Cosine_similarity) with `item`. Remember that you have normalized `item` but you will still need to normalize the other vector. \n",
        "4. Store the cosines in a list. It may be useful to put the cosines in tuples with the corresponding indices, but you don't have to do it this way.\n",
        "5. Find the `k` highest cosine values.\n",
        "6. Return the indices corresponding to these highest cosines. "
      ]
    },
    {
      "cell_type": "code",
      "metadata": {
        "colab_type": "code",
        "id": "cD_pwHiqa5HY",
        "nbgrader": {
          "grade": false,
          "grade_id": "answer-4-3-1",
          "locked": false,
          "schema_version": 3,
          "solution": true,
          "task": false
        },
        "colab": {}
      },
      "source": [
        "# answer 4.3.1\n",
        "# TODO: Complete the function\n",
        "def k_nearest_neighbors(X_proj, mask, item, k):\n",
        "    normalized_item = np.linalg.norm(item)\n",
        "    normalized = item/normalized_item\n",
        "    temp_list = []\n",
        "    for index, value in enumerate(X_proj):\n",
        "        if mask[index] == True:\n",
        "            normalized_data = np.linalg.norm(value)\n",
        "            if normalized_data >= 0.01:\n",
        "                value = value/normalized_data\n",
        "            dot = np.dot(value, normalized)\n",
        "            temp_list.append((index,dot))\n",
        "\n",
        "    \n",
        "    highest_vals = sorted(temp_list, reverse=True, key = itemgetter(1))[:k]\n",
        "    indices = []\n",
        "    \n",
        "    for index, value in highest_vals:\n",
        "       indices.append(index)\n",
        "    \n",
        "    return indices"
      ],
      "execution_count": 0,
      "outputs": []
    },
    {
      "cell_type": "markdown",
      "metadata": {
        "colab_type": "text",
        "id": "QXP0EqlucnN3",
        "nbgrader": {
          "grade": false,
          "grade_id": "spec-4-3-1-1",
          "locked": true,
          "schema_version": 3,
          "solution": false,
          "task": false
        }
      },
      "source": [
        "This visible test prints the \"readable\" versions of the ten nearest neighbors to the grand mean review using `translate_review` from Step 0.2. Do you agree that these are acceptable \"average\" reviews?"
      ]
    },
    {
      "cell_type": "code",
      "metadata": {
        "colab_type": "code",
        "id": "nQ_JXEwJ2wFm",
        "nbgrader": {
          "grade": true,
          "grade_id": "visible-test-4-3-1",
          "locked": true,
          "points": 1,
          "schema_version": 3,
          "solution": false,
          "task": false
        },
        "outputId": "59c4b512-7da1-41fc-f851-274e56fdf71c",
        "colab": {
          "base_uri": "https://localhost:8080/",
          "height": 207
        }
      },
      "source": [
        "most_typical_indices = k_nearest_neighbors(X, [True]*len(X), grand_mean, 10)\n",
        "most_typical_reviews = lookup_docs(reviews_bow, most_typical_indices)\n",
        "for review in most_typical_reviews:\n",
        "    print(translate_review(review, reviews_dict))"
      ],
      "execution_count": 0,
      "outputs": [
        {
          "output_type": "stream",
          "text": [
            "away design good just just bought even need though grass buy went soon becom seed pot soil \n",
            "also design good littl much tri will one recommend work fine get month piec still take can exactli like like probabl product size larger buy buy look find happi big question allow rather keep new seem claim claim due parent alway natur serious singl later fabric far certainli awesom coupl practic common medic medic bit move prevent advertis yet room scienc inde fold hip tight movement wee steep growth cozi nowaday wacki dysplasia cuddli disloc disloc burrito swaddler kiddo \n",
            "great just just just know one reason go get well got got got like never less wonder given select credit bother pro pro shop hat bass bass \n",
            "also away come good good great just mix sorri think will will will will amazon bought ok one one price price anyth go goe enough fine fine first get get get stop stop stop take well around around around can can can cost like line per per per per even product see size cover soft way deal say two throw big compani catch etc lot read least hole hole hole hole keep packag almost truli list list pass talk inch inch manufactur word claim might pack pay pay unless bulk far understand unit bare doubl bit yet breez count count premium premium premium biggest real real window shop net net net net net net net net net net net net net gotta squar screen mosquito mosquito mosquito mosquito mosquito mesh ft ft ft ft sq sq sq borderlin no-see-um no-see-um no-see-um no-see-um no-see-um no-see-um no-see-um \n",
            "littl use one well got high thing never way find pretti definit point lost sens decent school north orient \n",
            "better good just much short took tri will use use use one reason time time enough month well give give made can cours end like like thing break see way arriv hand look look posit ship durabl sure sure brand lot mayb save easi fairli happen rather differ quickli almost rate star star base report strong alway given saw saw saw three stand test test test without kind 3rd quit remain visual terrif wire user valu true inspect inspect inexpens individu regardless board regard pine inde awar accept initi intact connector surround portabl breakag braid useabl \n",
            "great one like said top purchas find throw els anoth idea constantli wish option everyon lack toothpast pop dispens execut clog \n",
            "littl bought complet problem get may cours want even though possibl sure brand best expens mani mani star pay other grandmoth bulki grandma stylish leak-proof \n",
            "good great hard get get whole got even kinda say half start new inch yeah there definitli lube iti \n",
            "come good good just think tri tri sinc use bought bought one stuff kit kit like want want need larger mine mine mine lot type share husband husband figur reorder gel yet miner starter starter add-on \n"
          ],
          "name": "stdout"
        }
      ]
    },
    {
      "cell_type": "markdown",
      "metadata": {
        "colab_type": "text",
        "id": "y6aigeyBZkpj",
        "nbgrader": {
          "grade": false,
          "grade_id": "spec-4-3-2",
          "locked": true,
          "schema_version": 3,
          "solution": false,
          "task": false
        }
      },
      "source": [
        "#### Step 4.3.2 Implement VRC\n",
        "\n",
        "Complete the function `test_vrc(data, max_num_clusters)` that computes the $VRC$ for each value of k in `num_clusters`. Since we are passing in the data, compute a new grand mean within the function. However, since the grand mean does not depend on the clusters, you should not compute it within a loop. Please compute $SS_B$ using the grand mean, the cluster centers, and the assignments only (no additional libraries or built-in values). Just as a warning, it is expected that your $SS_W$ and $SS_B$ may not add up to exactly the same number every time, but the sum should not change too much.\n",
        "\n",
        "Additionally, please also compute a related ratio: \n",
        "\n",
        "$$\\eta^2 = \\frac{SS_B}{SS_B + SS_W}$$ \n",
        "\n",
        "This $\\eta^2$ (eta squared) is an effect size that pairs with your $VRC$ statistic. Basically all of the $VRC$s are statistically significant because we have so many data points. This is why the effect size is so important. The literature recommends an effect size of at least 0.12.\n",
        "\n",
        "The return statement is given because we would like to keep the $VRC$s and the $\\eta^2$s."
      ]
    },
    {
      "cell_type": "code",
      "metadata": {
        "colab_type": "code",
        "id": "tE7CZrN32wIN",
        "nbgrader": {
          "grade": false,
          "grade_id": "answer-4-3-2",
          "locked": false,
          "schema_version": 3,
          "solution": true,
          "task": false
        },
        "colab": {}
      },
      "source": [
        "# answer 4.3.2\n",
        "# TODO: Complete the function\n",
        "def test_vrc(data, num_clusters):\n",
        "    vrcs = []\n",
        "    etas_squared = []\n",
        "    grand_mean = np.mean(X, axis = 0)\n",
        "    for i in num_clusters:\n",
        "        km = KMeans(n_clusters=i, init='k-means++', n_init=30, \n",
        "                    tol=1e-4, random_state=1911, n_jobs=1)\n",
        "        km.fit(data)\n",
        "        \n",
        "        labels = km.labels_\n",
        "        ss_between = 0\n",
        "        \n",
        "        #check which cluster each point falls into\n",
        "        #for each point caculate distance from each cluster center to grand mean \n",
        "        #sum distance up\n",
        "        \n",
        "        for value in labels:\n",
        "            distance = np.linalg.norm(km.cluster_centers_[value]- grand_mean)**2\n",
        "            #print(distance)\n",
        "            ss_between += distance\n",
        "\n",
        "        vrc = (ss_between/(i-1)) / ((km.inertia_)/(len(X)-i))\n",
        "        vrcs.append(vrc.item())\n",
        "        etas = ss_between / (ss_between + km.inertia_)\n",
        "        etas_squared.append(etas.item())\n",
        "        \n",
        "        #print(labels)\n",
        "        #print(km.cluster_centers_)\n",
        "        \n",
        "        print(i, km.inertia_, vrcs, etas_squared)\n",
        "\n",
        "    return vrcs, etas_squared"
      ],
      "execution_count": 0,
      "outputs": []
    },
    {
      "cell_type": "markdown",
      "metadata": {
        "colab_type": "text",
        "id": "s_5QvbFOf_7u",
        "nbgrader": {
          "grade": false,
          "grade_id": "spec-4-3-2-1",
          "locked": true,
          "schema_version": 3,
          "solution": false,
          "task": false
        }
      },
      "source": [
        "The code below takes a while to run just as the normal clustering before. I recommend printing the $VRC$ and $\\eta^2$ values as the come, so that you can track the progress."
      ]
    },
    {
      "cell_type": "code",
      "metadata": {
        "id": "B8AA2J0K-Eoq",
        "colab_type": "code",
        "outputId": "076eee31-e59d-4b15-fe50-5ab51a9b5fca",
        "colab": {
          "base_uri": "https://localhost:8080/",
          "height": 683
        }
      },
      "source": [
        "num_clusters = range(2,40)\n",
        "vrcs432, etas_squared432 = test_vrc(X, num_clusters)"
      ],
      "execution_count": 0,
      "outputs": [
        {
          "output_type": "stream",
          "text": [
            "2 7326.341158202441 [4609.467741273722] [0.04406442332276263]\n",
            "3 7018.166160134202 [4609.467741273722, 4600.168074962583] [0.04406442332276263, 0.0842542178619938]\n",
            "4 6758.138264414306 [4609.467741273722, 4600.168074962583, 4468.024491285873] [0.04406442332276263, 0.0842542178619938, 0.11820162953375594]\n",
            "5 6538.929611508317 [4609.467741273722, 4600.168074962583, 4468.024491285873, 4300.297841460727] [0.04406442332276263, 0.0842542178619938, 0.11820162953375594, 0.1467726140702575]\n",
            "6 6348.48533072781 [4609.467741273722, 4600.168074962583, 4468.024491285873, 4300.297841460727, 4144.129613868802] [0.04406442332276263, 0.0842542178619938, 0.11820162953375594, 0.1467726140702575, 0.1716498237847748]\n",
            "7 6170.869719856088 [4609.467741273722, 4600.168074962583, 4468.024491285873, 4300.297841460727, 4144.129613868802, 4032.935647712122] [0.04406442332276263, 0.0842542178619938, 0.11820162953375594, 0.1467726140702575, 0.1716498237847748, 0.19484253382008113]\n",
            "8 5999.67652357285 [4609.467741273722, 4600.168074962583, 4468.024491285873, 4300.297841460727, 4144.129613868802, 4032.935647712122, 3961.715558711587] [0.04406442332276263, 0.0842542178619938, 0.11820162953375594, 0.1467726140702575, 0.1716498237847748, 0.19484253382008113, 0.2171244791596644]\n",
            "9 5839.775175688998 [4609.467741273722, 4600.168074962583, 4468.024491285873, 4300.297841460727, 4144.129613868802, 4032.935647712122, 3961.715558711587, 3904.3159479461983] [0.04406442332276263, 0.0842542178619938, 0.11820162953375594, 0.1467726140702575, 0.1716498237847748, 0.19484253382008113, 0.2171244791596644, 0.23802173371852675]\n",
            "10 5683.512806547084 [4609.467741273722, 4600.168074962583, 4468.024491285873, 4300.297841460727, 4144.129613868802, 4032.935647712122, 3961.715558711587, 3904.3159479461983, 3871.1849249869024] [0.04406442332276263, 0.0842542178619938, 0.11820162953375594, 0.1467726140702575, 0.1716498237847748, 0.19484253382008113, 0.2171244791596644, 0.23802173371852675, 0.2584031199381438]\n",
            "11 5530.169679521365 [4609.467741273722, 4600.168074962583, 4468.024491285873, 4300.297841460727, 4144.129613868802, 4032.935647712122, 3961.715558711587, 3904.3159479461983, 3871.1849249869024, 3858.064256551141] [0.04406442332276263, 0.0842542178619938, 0.11820162953375594, 0.1467726140702575, 0.1716498237847748, 0.19484253382008113, 0.2171244791596644, 0.23802173371852675, 0.2584031199381438, 0.27842059668496066]\n",
            "12 5423.088013284703 [4609.467741273722, 4600.168074962583, 4468.024491285873, 4300.297841460727, 4144.129613868802, 4032.935647712122, 3961.715558711587, 3904.3159479461983, 3871.1849249869024, 3858.064256551141, 3755.671620325887] [0.04406442332276263, 0.0842542178619938, 0.11820162953375594, 0.1467726140702575, 0.1716498237847748, 0.19484253382008113, 0.2171244791596644, 0.23802173371852675, 0.2584031199381438, 0.27842059668496066, 0.2923727843915317]\n",
            "13 5287.531883652898 [4609.467741273722, 4600.168074962583, 4468.024491285873, 4300.297841460727, 4144.129613868802, 4032.935647712122, 3961.715558711587, 3904.3159479461983, 3871.1849249869024, 3858.064256551141, 3755.671620325887, 3744.626927331037] [0.04406442332276263, 0.0842542178619938, 0.11820162953375594, 0.1467726140702575, 0.1716498237847748, 0.19484253382008113, 0.2171244791596644, 0.23802173371852675, 0.2584031199381438, 0.27842059668496066, 0.2923727843915317, 0.3100658348895331]\n",
            "14 5151.3868639162565 [4609.467741273722, 4600.168074962583, 4468.024491285873, 4300.297841460727, 4144.129613868802, 4032.935647712122, 3961.715558711587, 3904.3159479461983, 3871.1849249869024, 3858.064256551141, 3755.671620325887, 3744.626927331037, 3751.4471303897703] [0.04406442332276263, 0.0842542178619938, 0.11820162953375594, 0.1467726140702575, 0.1716498237847748, 0.19484253382008113, 0.2171244791596644, 0.23802173371852675, 0.2584031199381438, 0.27842059668496066, 0.2923727843915317, 0.3100658348895331, 0.32784695709333694]\n",
            "15 5009.000999380529 [4609.467741273722, 4600.168074962583, 4468.024491285873, 4300.297841460727, 4144.129613868802, 4032.935647712122, 3961.715558711587, 3904.3159479461983, 3871.1849249869024, 3858.064256551141, 3755.671620325887, 3744.626927331037, 3751.4471303897703, 3785.3574026684632] [0.04406442332276263, 0.0842542178619938, 0.11820162953375594, 0.1467726140702575, 0.1716498237847748, 0.19484253382008113, 0.2171244791596644, 0.23802173371852675, 0.2584031199381438, 0.27842059668496066, 0.2923727843915317, 0.3100658348895331, 0.32784695709333694, 0.3464178479364138]\n",
            "16 4907.992004925736 [4609.467741273722, 4600.168074962583, 4468.024491285873, 4300.297841460727, 4144.129613868802, 4032.935647712122, 3961.715558711587, 3904.3159479461983, 3871.1849249869024, 3858.064256551141, 3755.671620325887, 3744.626927331037, 3751.4471303897703, 3785.3574026684632, 3742.805895785077] [0.04406442332276263, 0.0842542178619938, 0.11820162953375594, 0.1467726140702575, 0.1716498237847748, 0.19484253382008113, 0.2171244791596644, 0.23802173371852675, 0.2584031199381438, 0.27842059668496066, 0.2923727843915317, 0.3100658348895331, 0.32784695709333694, 0.3464178479364138, 0.35959453669084335]\n",
            "17 4801.40501725808 [4609.467741273722, 4600.168074962583, 4468.024491285873, 4300.297841460727, 4144.129613868802, 4032.935647712122, 3961.715558711587, 3904.3159479461983, 3871.1849249869024, 3858.064256551141, 3755.671620325887, 3744.626927331037, 3751.4471303897703, 3785.3574026684632, 3742.805895785077, 3725.4759889980223] [0.04406442332276263, 0.0842542178619938, 0.11820162953375594, 0.1467726140702575, 0.1716498237847748, 0.19484253382008113, 0.2171244791596644, 0.23802173371852675, 0.2584031199381438, 0.27842059668496066, 0.2923727843915317, 0.3100658348895331, 0.32784695709333694, 0.3464178479364138, 0.35959453669084335, 0.3735032634357195]\n",
            "18 4701.242631481955 [4609.467741273722, 4600.168074962583, 4468.024491285873, 4300.297841460727, 4144.129613868802, 4032.935647712122, 3961.715558711587, 3904.3159479461983, 3871.1849249869024, 3858.064256551141, 3755.671620325887, 3744.626927331037, 3751.4471303897703, 3785.3574026684632, 3742.805895785077, 3725.4759889980223, 3706.111215992465] [0.04406442332276263, 0.0842542178619938, 0.11820162953375594, 0.1467726140702575, 0.1716498237847748, 0.19484253382008113, 0.2171244791596644, 0.23802173371852675, 0.2584031199381438, 0.27842059668496066, 0.2923727843915317, 0.3100658348895331, 0.32784695709333694, 0.3464178479364138, 0.35959453669084335, 0.3735032634357195, 0.38656039741938913]\n",
            "19 4599.312619299049 [4609.467741273722, 4600.168074962583, 4468.024491285873, 4300.297841460727, 4144.129613868802, 4032.935647712122, 3961.715558711587, 3904.3159479461983, 3871.1849249869024, 3858.064256551141, 3755.671620325887, 3744.626927331037, 3751.4471303897703, 3785.3574026684632, 3742.805895785077, 3725.4759889980223, 3706.111215992465, 3700.7751317662596] [0.04406442332276263, 0.0842542178619938, 0.11820162953375594, 0.1467726140702575, 0.1716498237847748, 0.19484253382008113, 0.2171244791596644, 0.23802173371852675, 0.2584031199381438, 0.27842059668496066, 0.2923727843915317, 0.3100658348895331, 0.32784695709333694, 0.3464178479364138, 0.35959453669084335, 0.3735032634357195, 0.38656039741938913, 0.39985576647682114]\n",
            "20 4506.921988689584 [4609.467741273722, 4600.168074962583, 4468.024491285873, 4300.297841460727, 4144.129613868802, 4032.935647712122, 3961.715558711587, 3904.3159479461983, 3871.1849249869024, 3858.064256551141, 3755.671620325887, 3744.626927331037, 3751.4471303897703, 3785.3574026684632, 3742.805895785077, 3725.4759889980223, 3706.111215992465, 3700.7751317662596, 3686.011016316218] [0.04406442332276263, 0.0842542178619938, 0.11820162953375594, 0.1467726140702575, 0.1716498237847748, 0.19484253382008113, 0.2171244791596644, 0.23802173371852675, 0.2584031199381438, 0.27842059668496066, 0.2923727843915317, 0.3100658348895331, 0.32784695709333694, 0.3464178479364138, 0.35959453669084335, 0.3735032634357195, 0.38656039741938913, 0.39985576647682114, 0.4119315061619704]\n",
            "21 4374.13678234309 [4609.467741273722, 4600.168074962583, 4468.024491285873, 4300.297841460727, 4144.129613868802, 4032.935647712122, 3961.715558711587, 3904.3159479461983, 3871.1849249869024, 3858.064256551141, 3755.671620325887, 3744.626927331037, 3751.4471303897703, 3785.3574026684632, 3742.805895785077, 3725.4759889980223, 3706.111215992465, 3700.7751317662596, 3686.011016316218, 3759.702718354393] [0.04406442332276263, 0.0842542178619938, 0.11820162953375594, 0.1467726140702575, 0.1716498237847748, 0.19484253382008113, 0.2171244791596644, 0.23802173371852675, 0.2584031199381438, 0.27842059668496066, 0.2923727843915317, 0.3100658348895331, 0.32784695709333694, 0.3464178479364138, 0.35959453669084335, 0.3735032634357195, 0.38656039741938913, 0.39985576647682114, 0.4119315061619704, 0.4292558272661802]\n",
            "22 4282.379526302952 [4609.467741273722, 4600.168074962583, 4468.024491285873, 4300.297841460727, 4144.129613868802, 4032.935647712122, 3961.715558711587, 3904.3159479461983, 3871.1849249869024, 3858.064256551141, 3755.671620325887, 3744.626927331037, 3751.4471303897703, 3785.3574026684632, 3742.805895785077, 3725.4759889980223, 3706.111215992465, 3700.7751317662596, 3686.011016316218, 3759.702718354393, 3759.186914138205] [0.04406442332276263, 0.0842542178619938, 0.11820162953375594, 0.1467726140702575, 0.1716498237847748, 0.19484253382008113, 0.2171244791596644, 0.23802173371852675, 0.2584031199381438, 0.27842059668496066, 0.2923727843915317, 0.3100658348895331, 0.32784695709333694, 0.3464178479364138, 0.35959453669084335, 0.3735032634357195, 0.38656039741938913, 0.39985576647682114, 0.4119315061619704, 0.4292558272661802, 0.4412168398415428]\n",
            "23 4185.108037600458 [4609.467741273722, 4600.168074962583, 4468.024491285873, 4300.297841460727, 4144.129613868802, 4032.935647712122, 3961.715558711587, 3904.3159479461983, 3871.1849249869024, 3858.064256551141, 3755.671620325887, 3744.626927331037, 3751.4471303897703, 3785.3574026684632, 3742.805895785077, 3725.4759889980223, 3706.111215992465, 3700.7751317662596, 3686.011016316218, 3759.702718354393, 3759.186914138205, 3777.4501131261613] [0.04406442332276263, 0.0842542178619938, 0.11820162953375594, 0.1467726140702575, 0.1716498237847748, 0.19484253382008113, 0.2171244791596644, 0.23802173371852675, 0.2584031199381438, 0.27842059668496066, 0.2923727843915317, 0.3100658348895331, 0.32784695709333694, 0.3464178479364138, 0.35959453669084335, 0.3735032634357195, 0.38656039741938913, 0.39985576647682114, 0.4119315061619704, 0.4292558272661802, 0.4412168398415428, 0.4539190126281497]\n",
            "24 4097.956234312688 [4609.467741273722, 4600.168074962583, 4468.024491285873, 4300.297841460727, 4144.129613868802, 4032.935647712122, 3961.715558711587, 3904.3159479461983, 3871.1849249869024, 3858.064256551141, 3755.671620325887, 3744.626927331037, 3751.4471303897703, 3785.3574026684632, 3742.805895785077, 3725.4759889980223, 3706.111215992465, 3700.7751317662596, 3686.011016316218, 3759.702718354393, 3759.186914138205, 3777.4501131261613, 3782.5034066839057] [0.04406442332276263, 0.0842542178619938, 0.11820162953375594, 0.1467726140702575, 0.1716498237847748, 0.19484253382008113, 0.2171244791596644, 0.23802173371852675, 0.2584031199381438, 0.27842059668496066, 0.2923727843915317, 0.3100658348895331, 0.32784695709333694, 0.3464178479364138, 0.35959453669084335, 0.3735032634357195, 0.38656039741938913, 0.39985576647682114, 0.4119315061619704, 0.4292558272661802, 0.4412168398415428, 0.4539190126281497, 0.4652934340762397]\n",
            "25 4027.541351133062 [4609.467741273722, 4600.168074962583, 4468.024491285873, 4300.297841460727, 4144.129613868802, 4032.935647712122, 3961.715558711587, 3904.3159479461983, 3871.1849249869024, 3858.064256551141, 3755.671620325887, 3744.626927331037, 3751.4471303897703, 3785.3574026684632, 3742.805895785077, 3725.4759889980223, 3706.111215992465, 3700.7751317662596, 3686.011016316218, 3759.702718354393, 3759.186914138205, 3777.4501131261613, 3782.5034066839057, 3761.0586639690478] [0.04406442332276263, 0.0842542178619938, 0.11820162953375594, 0.1467726140702575, 0.1716498237847748, 0.19484253382008113, 0.2171244791596644, 0.23802173371852675, 0.2584031199381438, 0.27842059668496066, 0.2923727843915317, 0.3100658348895331, 0.32784695709333694, 0.3464178479364138, 0.35959453669084335, 0.3735032634357195, 0.38656039741938913, 0.39985576647682114, 0.4119315061619704, 0.4292558272661802, 0.4412168398415428, 0.4539190126281497, 0.4652934340762397, 0.4744807315908216]\n",
            "26 3927.833345378457 [4609.467741273722, 4600.168074962583, 4468.024491285873, 4300.297841460727, 4144.129613868802, 4032.935647712122, 3961.715558711587, 3904.3159479461983, 3871.1849249869024, 3858.064256551141, 3755.671620325887, 3744.626927331037, 3751.4471303897703, 3785.3574026684632, 3742.805895785077, 3725.4759889980223, 3706.111215992465, 3700.7751317662596, 3686.011016316218, 3759.702718354393, 3759.186914138205, 3777.4501131261613, 3782.5034066839057, 3761.0586639690478, 3803.67122364385] [0.04406442332276263, 0.0842542178619938, 0.11820162953375594, 0.1467726140702575, 0.1716498237847748, 0.19484253382008113, 0.2171244791596644, 0.23802173371852675, 0.2584031199381438, 0.27842059668496066, 0.2923727843915317, 0.3100658348895331, 0.32784695709333694, 0.3464178479364138, 0.35959453669084335, 0.3735032634357195, 0.38656039741938913, 0.39985576647682114, 0.4119315061619704, 0.4292558272661802, 0.4412168398415428, 0.4539190126281497, 0.4652934340762397, 0.4744807315908216, 0.4874857102201385]\n",
            "27 3842.5653418754964 [4609.467741273722, 4600.168074962583, 4468.024491285873, 4300.297841460727, 4144.129613868802, 4032.935647712122, 3961.715558711587, 3904.3159479461983, 3871.1849249869024, 3858.064256551141, 3755.671620325887, 3744.626927331037, 3751.4471303897703, 3785.3574026684632, 3742.805895785077, 3725.4759889980223, 3706.111215992465, 3700.7751317662596, 3686.011016316218, 3759.702718354393, 3759.186914138205, 3777.4501131261613, 3782.5034066839057, 3761.0586639690478, 3803.67122364385, 3823.876724436386] [0.04406442332276263, 0.0842542178619938, 0.11820162953375594, 0.1467726140702575, 0.1716498237847748, 0.19484253382008113, 0.2171244791596644, 0.23802173371852675, 0.2584031199381438, 0.27842059668496066, 0.2923727843915317, 0.3100658348895331, 0.32784695709333694, 0.3464178479364138, 0.35959453669084335, 0.3735032634357195, 0.38656039741938913, 0.39985576647682114, 0.4119315061619704, 0.4292558272661802, 0.4412168398415428, 0.4539190126281497, 0.4652934340762397, 0.4744807315908216, 0.4874857102201385, 0.498615289996587]\n",
            "28 3766.4674485474584 [4609.467741273722, 4600.168074962583, 4468.024491285873, 4300.297841460727, 4144.129613868802, 4032.935647712122, 3961.715558711587, 3904.3159479461983, 3871.1849249869024, 3858.064256551141, 3755.671620325887, 3744.626927331037, 3751.4471303897703, 3785.3574026684632, 3742.805895785077, 3725.4759889980223, 3706.111215992465, 3700.7751317662596, 3686.011016316218, 3759.702718354393, 3759.186914138205, 3777.4501131261613, 3782.5034066839057, 3761.0586639690478, 3803.67122364385, 3823.876724436386, 3831.5628384661545] [0.04406442332276263, 0.0842542178619938, 0.11820162953375594, 0.1467726140702575, 0.1716498237847748, 0.19484253382008113, 0.2171244791596644, 0.23802173371852675, 0.2584031199381438, 0.27842059668496066, 0.2923727843915317, 0.3100658348895331, 0.32784695709333694, 0.3464178479364138, 0.35959453669084335, 0.3735032634357195, 0.38656039741938913, 0.39985576647682114, 0.4119315061619704, 0.4292558272661802, 0.4412168398415428, 0.4539190126281497, 0.4652934340762397, 0.4744807315908216, 0.4874857102201385, 0.498615289996587, 0.5085540380546992]\n",
            "29 3720.6899987996017 [4609.467741273722, 4600.168074962583, 4468.024491285873, 4300.297841460727, 4144.129613868802, 4032.935647712122, 3961.715558711587, 3904.3159479461983, 3871.1849249869024, 3858.064256551141, 3755.671620325887, 3744.626927331037, 3751.4471303897703, 3785.3574026684632, 3742.805895785077, 3725.4759889980223, 3706.111215992465, 3700.7751317662596, 3686.011016316218, 3759.702718354393, 3759.186914138205, 3777.4501131261613, 3782.5034066839057, 3761.0586639690478, 3803.67122364385, 3823.876724436386, 3831.5628384661545, 3783.9454277062664] [0.04406442332276263, 0.0842542178619938, 0.11820162953375594, 0.1467726140702575, 0.1716498237847748, 0.19484253382008113, 0.2171244791596644, 0.23802173371852675, 0.2584031199381438, 0.27842059668496066, 0.2923727843915317, 0.3100658348895331, 0.32784695709333694, 0.3464178479364138, 0.35959453669084335, 0.3735032634357195, 0.38656039741938913, 0.39985576647682114, 0.4119315061619704, 0.4292558272661802, 0.4412168398415428, 0.4539190126281497, 0.4652934340762397, 0.4744807315908216, 0.4874857102201385, 0.498615289996587, 0.5085540380546992, 0.5145188161253987]\n",
            "30 3629.184320439904 [4609.467741273722, 4600.168074962583, 4468.024491285873, 4300.297841460727, 4144.129613868802, 4032.935647712122, 3961.715558711587, 3904.3159479461983, 3871.1849249869024, 3858.064256551141, 3755.671620325887, 3744.626927331037, 3751.4471303897703, 3785.3574026684632, 3742.805895785077, 3725.4759889980223, 3706.111215992465, 3700.7751317662596, 3686.011016316218, 3759.702718354393, 3759.186914138205, 3777.4501131261613, 3782.5034066839057, 3761.0586639690478, 3803.67122364385, 3823.876724436386, 3831.5628384661545, 3783.9454277062664, 3832.5268712111024] [0.04406442332276263, 0.0842542178619938, 0.11820162953375594, 0.1467726140702575, 0.1716498237847748, 0.19484253382008113, 0.2171244791596644, 0.23802173371852675, 0.2584031199381438, 0.27842059668496066, 0.2923727843915317, 0.3100658348895331, 0.32784695709333694, 0.3464178479364138, 0.35959453669084335, 0.3735032634357195, 0.38656039741938913, 0.39985576647682114, 0.4119315061619704, 0.4292558272661802, 0.4412168398415428, 0.4539190126281497, 0.4652934340762397, 0.4744807315908216, 0.4874857102201385, 0.498615289996587, 0.5085540380546992, 0.5145188161253987, 0.526462758060544]\n",
            "31 3536.545207664939 [4609.467741273722, 4600.168074962583, 4468.024491285873, 4300.297841460727, 4144.129613868802, 4032.935647712122, 3961.715558711587, 3904.3159479461983, 3871.1849249869024, 3858.064256551141, 3755.671620325887, 3744.626927331037, 3751.4471303897703, 3785.3574026684632, 3742.805895785077, 3725.4759889980223, 3706.111215992465, 3700.7751317662596, 3686.011016316218, 3759.702718354393, 3759.186914138205, 3777.4501131261613, 3782.5034066839057, 3761.0586639690478, 3803.67122364385, 3823.876724436386, 3831.5628384661545, 3783.9454277062664, 3832.5268712111024, 3888.7719774074694] [0.04406442332276263, 0.0842542178619938, 0.11820162953375594, 0.1467726140702575, 0.1716498237847748, 0.19484253382008113, 0.2171244791596644, 0.23802173371852675, 0.2584031199381438, 0.27842059668496066, 0.2923727843915317, 0.3100658348895331, 0.32784695709333694, 0.3464178479364138, 0.35959453669084335, 0.3735032634357195, 0.38656039741938913, 0.39985576647682114, 0.4119315061619704, 0.4292558272661802, 0.4412168398415428, 0.4539190126281497, 0.4652934340762397, 0.4744807315908216, 0.4874857102201385, 0.498615289996587, 0.5085540380546992, 0.5145188161253987, 0.526462758060544, 0.5385311196972209]\n",
            "32 3472.671257832144 [4609.467741273722, 4600.168074962583, 4468.024491285873, 4300.297841460727, 4144.129613868802, 4032.935647712122, 3961.715558711587, 3904.3159479461983, 3871.1849249869024, 3858.064256551141, 3755.671620325887, 3744.626927331037, 3751.4471303897703, 3785.3574026684632, 3742.805895785077, 3725.4759889980223, 3706.111215992465, 3700.7751317662596, 3686.011016316218, 3759.702718354393, 3759.186914138205, 3777.4501131261613, 3782.5034066839057, 3761.0586639690478, 3803.67122364385, 3823.876724436386, 3831.5628384661545, 3783.9454277062664, 3832.5268712111024, 3888.7719774074694, 3891.894445725496] [0.04406442332276263, 0.0842542178619938, 0.11820162953375594, 0.1467726140702575, 0.1716498237847748, 0.19484253382008113, 0.2171244791596644, 0.23802173371852675, 0.2584031199381438, 0.27842059668496066, 0.2923727843915317, 0.3100658348895331, 0.32784695709333694, 0.3464178479364138, 0.35959453669084335, 0.3735032634357195, 0.38656039741938913, 0.39985576647682114, 0.4119315061619704, 0.4292558272661802, 0.4412168398415428, 0.4539190126281497, 0.4652934340762397, 0.4744807315908216, 0.4874857102201385, 0.498615289996587, 0.5085540380546992, 0.5145188161253987, 0.526462758060544, 0.5385311196972209, 0.5468702623370403]\n",
            "33 3419.6894190946373 [4609.467741273722, 4600.168074962583, 4468.024491285873, 4300.297841460727, 4144.129613868802, 4032.935647712122, 3961.715558711587, 3904.3159479461983, 3871.1849249869024, 3858.064256551141, 3755.671620325887, 3744.626927331037, 3751.4471303897703, 3785.3574026684632, 3742.805895785077, 3725.4759889980223, 3706.111215992465, 3700.7751317662596, 3686.011016316218, 3759.702718354393, 3759.186914138205, 3777.4501131261613, 3782.5034066839057, 3761.0586639690478, 3803.67122364385, 3823.876724436386, 3831.5628384661545, 3783.9454277062664, 3832.5268712111024, 3888.7719774074694, 3891.894445725496, 3877.277577657188] [0.04406442332276263, 0.0842542178619938, 0.11820162953375594, 0.1467726140702575, 0.1716498237847748, 0.19484253382008113, 0.2171244791596644, 0.23802173371852675, 0.2584031199381438, 0.27842059668496066, 0.2923727843915317, 0.3100658348895331, 0.32784695709333694, 0.3464178479364138, 0.35959453669084335, 0.3735032634357195, 0.38656039741938913, 0.39985576647682114, 0.4119315061619704, 0.4292558272661802, 0.4412168398415428, 0.4539190126281497, 0.4652934340762397, 0.4744807315908216, 0.4874857102201385, 0.498615289996587, 0.5085540380546992, 0.5145188161253987, 0.526462758060544, 0.5385311196972209, 0.5468702623370403, 0.5537981948072142]\n",
            "34 3378.6836569211187 [4609.467741273722, 4600.168074962583, 4468.024491285873, 4300.297841460727, 4144.129613868802, 4032.935647712122, 3961.715558711587, 3904.3159479461983, 3871.1849249869024, 3858.064256551141, 3755.671620325887, 3744.626927331037, 3751.4471303897703, 3785.3574026684632, 3742.805895785077, 3725.4759889980223, 3706.111215992465, 3700.7751317662596, 3686.011016316218, 3759.702718354393, 3759.186914138205, 3777.4501131261613, 3782.5034066839057, 3761.0586639690478, 3803.67122364385, 3823.876724436386, 3831.5628384661545, 3783.9454277062664, 3832.5268712111024, 3888.7719774074694, 3891.894445725496, 3877.277577657188, 3842.0227212636637] [0.04406442332276263, 0.0842542178619938, 0.11820162953375594, 0.1467726140702575, 0.1716498237847748, 0.19484253382008113, 0.2171244791596644, 0.23802173371852675, 0.2584031199381438, 0.27842059668496066, 0.2923727843915317, 0.3100658348895331, 0.32784695709333694, 0.3464178479364138, 0.35959453669084335, 0.3735032634357195, 0.38656039741938913, 0.39985576647682114, 0.4119315061619704, 0.4292558272661802, 0.4412168398415428, 0.4539190126281497, 0.4652934340762397, 0.4744807315908216, 0.4874857102201385, 0.498615289996587, 0.5085540380546992, 0.5145188161253987, 0.526462758060544, 0.5385311196972209, 0.5468702623370403, 0.5537981948072142, 0.5591409582136404]\n",
            "35 3285.8828345980282 [4609.467741273722, 4600.168074962583, 4468.024491285873, 4300.297841460727, 4144.129613868802, 4032.935647712122, 3961.715558711587, 3904.3159479461983, 3871.1849249869024, 3858.064256551141, 3755.671620325887, 3744.626927331037, 3751.4471303897703, 3785.3574026684632, 3742.805895785077, 3725.4759889980223, 3706.111215992465, 3700.7751317662596, 3686.011016316218, 3759.702718354393, 3759.186914138205, 3777.4501131261613, 3782.5034066839057, 3761.0586639690478, 3803.67122364385, 3823.876724436386, 3831.5628384661545, 3783.9454277062664, 3832.5268712111024, 3888.7719774074694, 3891.894445725496, 3877.277577657188, 3842.0227212636637, 3917.404506199528] [0.04406442332276263, 0.0842542178619938, 0.11820162953375594, 0.1467726140702575, 0.1716498237847748, 0.19484253382008113, 0.2171244791596644, 0.23802173371852675, 0.2584031199381438, 0.27842059668496066, 0.2923727843915317, 0.3100658348895331, 0.32784695709333694, 0.3464178479364138, 0.35959453669084335, 0.3735032634357195, 0.38656039741938913, 0.39985576647682114, 0.4119315061619704, 0.4292558272661802, 0.4412168398415428, 0.4539190126281497, 0.4652934340762397, 0.4744807315908216, 0.4874857102201385, 0.498615289996587, 0.5085540380546992, 0.5145188161253987, 0.526462758060544, 0.5385311196972209, 0.5468702623370403, 0.5537981948072142, 0.5591409582136404, 0.5712541085626319]\n",
            "36 3270.3268270041717 [4609.467741273722, 4600.168074962583, 4468.024491285873, 4300.297841460727, 4144.129613868802, 4032.935647712122, 3961.715558711587, 3904.3159479461983, 3871.1849249869024, 3858.064256551141, 3755.671620325887, 3744.626927331037, 3751.4471303897703, 3785.3574026684632, 3742.805895785077, 3725.4759889980223, 3706.111215992465, 3700.7751317662596, 3686.011016316218, 3759.702718354393, 3759.186914138205, 3777.4501131261613, 3782.5034066839057, 3761.0586639690478, 3803.67122364385, 3823.876724436386, 3831.5628384661545, 3783.9454277062664, 3832.5268712111024, 3888.7719774074694, 3891.894445725496, 3877.277577657188, 3842.0227212636637, 3917.404506199528, 3837.0649231660636] [0.04406442332276263, 0.0842542178619938, 0.11820162953375594, 0.1467726140702575, 0.1716498237847748, 0.19484253382008113, 0.2171244791596644, 0.23802173371852675, 0.2584031199381438, 0.27842059668496066, 0.2923727843915317, 0.3100658348895331, 0.32784695709333694, 0.3464178479364138, 0.35959453669084335, 0.3735032634357195, 0.38656039741938913, 0.39985576647682114, 0.4119315061619704, 0.4292558272661802, 0.4412168398415428, 0.4539190126281497, 0.4652934340762397, 0.4744807315908216, 0.4874857102201385, 0.498615289996587, 0.5085540380546992, 0.5145188161253987, 0.526462758060544, 0.5385311196972209, 0.5468702623370403, 0.5537981948072142, 0.5591409582136404, 0.5712541085626319, 0.5732798724521133]\n",
            "37 3215.6761393662705 [4609.467741273722, 4600.168074962583, 4468.024491285873, 4300.297841460727, 4144.129613868802, 4032.935647712122, 3961.715558711587, 3904.3159479461983, 3871.1849249869024, 3858.064256551141, 3755.671620325887, 3744.626927331037, 3751.4471303897703, 3785.3574026684632, 3742.805895785077, 3725.4759889980223, 3706.111215992465, 3700.7751317662596, 3686.011016316218, 3759.702718354393, 3759.186914138205, 3777.4501131261613, 3782.5034066839057, 3761.0586639690478, 3803.67122364385, 3823.876724436386, 3831.5628384661545, 3783.9454277062664, 3832.5268712111024, 3888.7719774074694, 3891.894445725496, 3877.277577657188, 3842.0227212636637, 3917.404506199528, 3837.0649231660636, 3841.054804186153] [0.04406442332276263, 0.0842542178619938, 0.11820162953375594, 0.1467726140702575, 0.1716498237847748, 0.19484253382008113, 0.2171244791596644, 0.23802173371852675, 0.2584031199381438, 0.27842059668496066, 0.2923727843915317, 0.3100658348895331, 0.32784695709333694, 0.3464178479364138, 0.35959453669084335, 0.3735032634357195, 0.38656039741938913, 0.39985576647682114, 0.4119315061619704, 0.4292558272661802, 0.4412168398415428, 0.4539190126281497, 0.4652934340762397, 0.4744807315908216, 0.4874857102201385, 0.498615289996587, 0.5085540380546992, 0.5145188161253987, 0.526462758060544, 0.5385311196972209, 0.5468702623370403, 0.5537981948072142, 0.5591409582136404, 0.5712541085626319, 0.5732798724521133, 0.5804122239683557]\n",
            "38 3163.376917767095 [4609.467741273722, 4600.168074962583, 4468.024491285873, 4300.297841460727, 4144.129613868802, 4032.935647712122, 3961.715558711587, 3904.3159479461983, 3871.1849249869024, 3858.064256551141, 3755.671620325887, 3744.626927331037, 3751.4471303897703, 3785.3574026684632, 3742.805895785077, 3725.4759889980223, 3706.111215992465, 3700.7751317662596, 3686.011016316218, 3759.702718354393, 3759.186914138205, 3777.4501131261613, 3782.5034066839057, 3761.0586639690478, 3803.67122364385, 3823.876724436386, 3831.5628384661545, 3783.9454277062664, 3832.5268712111024, 3888.7719774074694, 3891.894445725496, 3877.277577657188, 3842.0227212636637, 3917.404506199528, 3837.0649231660636, 3841.054804186153, 3843.695731147388] [0.04406442332276263, 0.0842542178619938, 0.11820162953375594, 0.1467726140702575, 0.1716498237847748, 0.19484253382008113, 0.2171244791596644, 0.23802173371852675, 0.2584031199381438, 0.27842059668496066, 0.2923727843915317, 0.3100658348895331, 0.32784695709333694, 0.3464178479364138, 0.35959453669084335, 0.3735032634357195, 0.38656039741938913, 0.39985576647682114, 0.4119315061619704, 0.4292558272661802, 0.4412168398415428, 0.4539190126281497, 0.4652934340762397, 0.4744807315908216, 0.4874857102201385, 0.498615289996587, 0.5085540380546992, 0.5145188161253987, 0.526462758060544, 0.5385311196972209, 0.5468702623370403, 0.5537981948072142, 0.5591409582136404, 0.5712541085626319, 0.5732798724521133, 0.5804122239683557, 0.5872387512098428]\n",
            "39 3132.3881551175414 [4609.467741273722, 4600.168074962583, 4468.024491285873, 4300.297841460727, 4144.129613868802, 4032.935647712122, 3961.715558711587, 3904.3159479461983, 3871.1849249869024, 3858.064256551141, 3755.671620325887, 3744.626927331037, 3751.4471303897703, 3785.3574026684632, 3742.805895785077, 3725.4759889980223, 3706.111215992465, 3700.7751317662596, 3686.011016316218, 3759.702718354393, 3759.186914138205, 3777.4501131261613, 3782.5034066839057, 3761.0586639690478, 3803.67122364385, 3823.876724436386, 3831.5628384661545, 3783.9454277062664, 3832.5268712111024, 3888.7719774074694, 3891.894445725496, 3877.277577657188, 3842.0227212636637, 3917.404506199528, 3837.0649231660636, 3841.054804186153, 3843.695731147388, 3805.513455731372] [0.04406442332276263, 0.0842542178619938, 0.11820162953375594, 0.1467726140702575, 0.1716498237847748, 0.19484253382008113, 0.2171244791596644, 0.23802173371852675, 0.2584031199381438, 0.27842059668496066, 0.2923727843915317, 0.3100658348895331, 0.32784695709333694, 0.3464178479364138, 0.35959453669084335, 0.3735032634357195, 0.38656039741938913, 0.39985576647682114, 0.4119315061619704, 0.4292558272661802, 0.4412168398415428, 0.4539190126281497, 0.4652934340762397, 0.4744807315908216, 0.4874857102201385, 0.498615289996587, 0.5085540380546992, 0.5145188161253987, 0.526462758060544, 0.5385311196972209, 0.5468702623370403, 0.5537981948072142, 0.5591409582136404, 0.5712541085626319, 0.5732798724521133, 0.5804122239683557, 0.5872387512098428, 0.5912794250566381]\n"
          ],
          "name": "stdout"
        }
      ]
    },
    {
      "cell_type": "code",
      "metadata": {
        "id": "KE1GDpPO1zpN",
        "colab_type": "code",
        "outputId": "e983e27d-b6d1-4b0a-c48c-49eeaacea1f6",
        "colab": {
          "base_uri": "https://localhost:8080/",
          "height": 139
        }
      },
      "source": [
        "## AUTOGRADER Step 4.3.2.1: Run this to get your score. ##\n",
        "print(vrcs432)\n",
        "print(etas_squared432)\n",
        "grader.grade(question_id = \"4.3.2.1\", answer = (vrcs432, etas_squared432))"
      ],
      "execution_count": 0,
      "outputs": [
        {
          "output_type": "stream",
          "text": [
            "[4609.467741273722, 4600.168074962583, 4468.024491285873, 4300.297841460727, 4144.129613868802, 4032.935647712122, 3961.715558711587, 3904.3159479461983, 3871.1849249869024, 3858.064256551141, 3755.671620325887, 3744.626927331037, 3751.4471303897703, 3785.3574026684632, 3742.805895785077, 3725.4759889980223, 3706.111215992465, 3700.7751317662596, 3686.011016316218, 3759.702718354393, 3759.186914138205, 3777.4501131261613, 3782.5034066839057, 3761.0586639690478, 3803.67122364385, 3823.876724436386, 3831.5628384661545, 3783.9454277062664, 3832.5268712111024, 3888.7719774074694, 3891.894445725496, 3877.277577657188, 3842.0227212636637, 3917.404506199528, 3837.0649231660636, 3841.054804186153, 3843.695731147388, 3805.513455731372]\n",
            "[0.04406442332276263, 0.0842542178619938, 0.11820162953375594, 0.1467726140702575, 0.1716498237847748, 0.19484253382008113, 0.2171244791596644, 0.23802173371852675, 0.2584031199381438, 0.27842059668496066, 0.2923727843915317, 0.3100658348895331, 0.32784695709333694, 0.3464178479364138, 0.35959453669084335, 0.3735032634357195, 0.38656039741938913, 0.39985576647682114, 0.4119315061619704, 0.4292558272661802, 0.4412168398415428, 0.4539190126281497, 0.4652934340762397, 0.4744807315908216, 0.4874857102201385, 0.498615289996587, 0.5085540380546992, 0.5145188161253987, 0.526462758060544, 0.5385311196972209, 0.5468702623370403, 0.5537981948072142, 0.5591409582136404, 0.5712541085626319, 0.5732798724521133, 0.5804122239683557, 0.5872387512098428, 0.5912794250566381]\n",
            "Correct! You earned 1/1 points. You are a star!\n",
            "\n",
            "Your submission has been succesfully recorded in the gradebook.\n",
            "               \n"
          ],
          "name": "stdout"
        }
      ]
    },
    {
      "cell_type": "markdown",
      "metadata": {
        "colab_type": "text",
        "id": "GBApDsWsJubS",
        "nbgrader": {
          "grade": false,
          "grade_id": "spec-4-3-3",
          "locked": true,
          "schema_version": 3,
          "solution": false,
          "task": false
        }
      },
      "source": [
        "#### Step 4.3.3: Select a number of clusters with VRC\n",
        "\n",
        "The code below prints rounded versions of the $VRC$s and $\\eta^2$s. Then, it plots the number of clusters (from 2 to 40) versus $VRC$. You do not need to modify this cell."
      ]
    },
    {
      "cell_type": "code",
      "metadata": {
        "colab_type": "code",
        "id": "6Jqoq2NTXVcs",
        "nbgrader": {
          "grade": true,
          "grade_id": "visible-test-4-3-2-2",
          "locked": true,
          "points": 1,
          "schema_version": 3,
          "solution": false,
          "task": false
        },
        "outputId": "b5774b7a-d519-4606-875b-5cf628c0de01",
        "colab": {
          "base_uri": "https://localhost:8080/",
          "height": 941
        }
      },
      "source": [
        "for i in range(len(num_clusters)):\n",
        "    print(\"%2d\"%num_clusters[i], \n",
        "          \"%d\"%np.round(vrcs432[i], 0), \n",
        "          np.round(etas_squared432[i], 2))\n",
        "\n",
        "plot_clusters(num_clusters, vrcs432)"
      ],
      "execution_count": 0,
      "outputs": [
        {
          "output_type": "stream",
          "text": [
            " 2 4609 0.04\n",
            " 3 4600 0.08\n",
            " 4 4468 0.12\n",
            " 5 4300 0.15\n",
            " 6 4144 0.17\n",
            " 7 4033 0.19\n",
            " 8 3962 0.22\n",
            " 9 3904 0.24\n",
            "10 3871 0.26\n",
            "11 3858 0.28\n",
            "12 3756 0.29\n",
            "13 3745 0.31\n",
            "14 3751 0.33\n",
            "15 3785 0.35\n",
            "16 3743 0.36\n",
            "17 3725 0.37\n",
            "18 3706 0.39\n",
            "19 3701 0.4\n",
            "20 3686 0.41\n",
            "21 3760 0.43\n",
            "22 3759 0.44\n",
            "23 3777 0.45\n",
            "24 3783 0.47\n",
            "25 3761 0.47\n",
            "26 3804 0.49\n",
            "27 3824 0.5\n",
            "28 3832 0.51\n",
            "29 3784 0.51\n",
            "30 3833 0.53\n",
            "31 3889 0.54\n",
            "32 3892 0.55\n",
            "33 3877 0.55\n",
            "34 3842 0.56\n",
            "35 3917 0.57\n",
            "36 3837 0.57\n",
            "37 3841 0.58\n",
            "38 3844 0.59\n",
            "39 3806 0.59\n"
          ],
          "name": "stdout"
        },
        {
          "output_type": "display_data",
          "data": {
            "image/png": "[encoded data removed]",
            "text/plain": [
              "<Figure size 432x288 with 1 Axes>"
            ]
          },
          "metadata": {
            "tags": []
          }
        }
      ]
    },
    {
      "cell_type": "markdown",
      "metadata": {
        "colab_type": "text",
        "id": "iiJK2Y3EoeAw",
        "nbgrader": {
          "grade": false,
          "grade_id": "spec-4-3-3-1",
          "locked": true,
          "schema_version": 3,
          "solution": false,
          "task": false
        }
      },
      "source": [
        "Much better, right??\n",
        "\n",
        "Complete the `best_vrc` function that compares and chooses a number of clusters based on the $VRC$s and $\\eta^2$s. Note that you are now looking for local maxima, so your elbow method should not be used again. Let's define a maximum as a point where the graph is increasing just before and decreasing just after. Return a list of all indices of `distortions` that are maxima. Then, these can be used to select $k$s from the `num_clusters` array."
      ]
    },
    {
      "cell_type": "code",
      "metadata": {
        "colab_type": "code",
        "id": "9iVFopkm2wNj",
        "nbgrader": {
          "grade": false,
          "grade_id": "answer-4-3-3",
          "locked": false,
          "schema_version": 3,
          "solution": true,
          "task": false
        },
        "colab": {}
      },
      "source": [
        "# answer 4.3.3\n",
        "# TODO: Complete the function\n",
        "def best_vrc(distortions):\n",
        "    maxima = []\n",
        "    count = 0\n",
        "    for index, value in enumerate(distortions):\n",
        "      \n",
        "      if index < (len(distortions)-1) and index >= 1:\n",
        "        print(distortions[index-1])\n",
        "\n",
        "        if distortions[index-1] < value and distortions[index + 1] < value:\n",
        "          maxima.append(index)\n",
        "\n",
        "    print(maxima)\n",
        "    return maxima"
      ],
      "execution_count": 0,
      "outputs": []
    },
    {
      "cell_type": "code",
      "metadata": {
        "colab_type": "code",
        "id": "PSqtwSmRowZG",
        "nbgrader": {
          "grade": true,
          "grade_id": "visible-test-4-3-3",
          "locked": true,
          "points": 1,
          "schema_version": 3,
          "solution": false,
          "task": false
        },
        "outputId": "e942c723-4adf-4186-c00d-c1d187fcf74d",
        "colab": {
          "base_uri": "https://localhost:8080/",
          "height": 663
        }
      },
      "source": [
        "khat433 = [num_clusters[i] for i in best_vrc(vrcs432)]\n",
        "print(\"A good number of clusters is one of these:\", khat433)\n",
        "if ((min(khat433) < 2) or (max(khat433) > 39)):\n",
        "    raise ValueError('k hat is not in the right range')"
      ],
      "execution_count": 0,
      "outputs": [
        {
          "output_type": "stream",
          "text": [
            "4609.467741273722\n",
            "4600.168074962583\n",
            "4468.024491285873\n",
            "4300.297841460727\n",
            "4144.129613868802\n",
            "4032.935647712122\n",
            "3961.715558711587\n",
            "3904.3159479461983\n",
            "3871.1849249869024\n",
            "3858.064256551141\n",
            "3755.671620325887\n",
            "3744.626927331037\n",
            "3751.4471303897703\n",
            "3785.3574026684632\n",
            "3742.805895785077\n",
            "3725.4759889980223\n",
            "3706.111215992465\n",
            "3700.7751317662596\n",
            "3686.011016316218\n",
            "3759.702718354393\n",
            "3759.186914138205\n",
            "3777.4501131261613\n",
            "3782.5034066839057\n",
            "3761.0586639690478\n",
            "3803.67122364385\n",
            "3823.876724436386\n",
            "3831.5628384661545\n",
            "3783.9454277062664\n",
            "3832.5268712111024\n",
            "3888.7719774074694\n",
            "3891.894445725496\n",
            "3877.277577657188\n",
            "3842.0227212636637\n",
            "3917.404506199528\n",
            "3837.0649231660636\n",
            "3841.054804186153\n",
            "[13, 19, 22, 26, 30, 33, 36]\n",
            "A good number of clusters is one of these: [15, 21, 24, 28, 32, 35, 38]\n"
          ],
          "name": "stdout"
        }
      ]
    },
    {
      "cell_type": "markdown",
      "metadata": {
        "colab_type": "text",
        "id": "016dNhVhiJha",
        "nbgrader": {
          "grade": false,
          "grade_id": "spec-5",
          "locked": true,
          "schema_version": 3,
          "solution": false,
          "task": false
        }
      },
      "source": [
        "## Step 5: t-SNE\n",
        "\n",
        "In this last section, we are going to create a t-SNE plot that may help us decide how to use the clusters that we found in the previous section. More specifically, does k-means find differences between the reviews that are related to the star ratings, or other differences?\n",
        "\n",
        "We are going to use the clustering given below for this section. Double check that `X` is still the same as when you defined it in Step 4.0. You do not need to modify the cell."
      ]
    },
    {
      "cell_type": "code",
      "metadata": {
        "colab_type": "code",
        "id": "WBQp-W9VC2vT",
        "outputId": "e58e82f6-c0d1-43f9-b1ff-23540aaf468e",
        "colab": {
          "base_uri": "https://localhost:8080/",
          "height": 68
        }
      },
      "source": [
        "km = KMeans(n_clusters=35, init='k-means++', n_init=30, max_iter=10, \n",
        "            tol=1e-4, random_state=1911, n_jobs=1)\n",
        "km.fit(X)"
      ],
      "execution_count": 0,
      "outputs": [
        {
          "output_type": "execute_result",
          "data": {
            "text/plain": [
              "KMeans(algorithm='auto', copy_x=True, init='k-means++', max_iter=10,\n",
              "       n_clusters=35, n_init=30, n_jobs=1, precompute_distances='auto',\n",
              "       random_state=1911, tol=0.0001, verbose=0)"
            ]
          },
          "metadata": {
            "tags": []
          },
          "execution_count": 91
        }
      ]
    },
    {
      "cell_type": "markdown",
      "metadata": {
        "colab_type": "text",
        "id": "t8EZ-Hcqi_rE",
        "nbgrader": {
          "grade": false,
          "grade_id": "spec-5-1",
          "locked": true,
          "schema_version": 3,
          "solution": false,
          "task": false
        }
      },
      "source": [
        "### Step 5.1: Exemplars of each cluster\n",
        "\n",
        "Let's begin by approaching this question in a somewhat qualitative way. Namely, let's find the nearest review to each cluster center. Complete the function below that iterates through the cluster centers of `km`. For each cluster center, call `k_nearest_neighbors`. Use the cluster assignments (labels) from `km` to construct the `mask` parameter for `k_nearest_neighbors`. The key idea here is that you want to search only through the reviews that were assigned to that cluster when searching for neighbors. It really should not change your answer, but it is a whole lot faster to do it this way. Alternatively, you could subset the dataset and pass in `[True]*(number_of_points_in_that_cluster)` as the mask, i.e. the mask has all true values, so no item is masked. But keeping track of indices is harder in that case.\n",
        "\n",
        "The function should return a list of lists of indices. There is one list per cluster center. Each index in one of these lists corresponds to a closest neighbor to a cluster center."
      ]
    },
    {
      "cell_type": "code",
      "metadata": {
        "colab_type": "code",
        "id": "sa6Zmne-owe8",
        "nbgrader": {
          "grade": false,
          "grade_id": "answer-5-1",
          "locked": false,
          "schema_version": 3,
          "solution": true,
          "task": false
        },
        "colab": {}
      },
      "source": [
        "# answer 5.1\n",
        "# TODO: Complete the function\n",
        "def get_exemplars(X_proj, km, n_exemplars):\n",
        "    examplar_indicies = []\n",
        "    for index, center in enumerate(km.cluster_centers_):\n",
        "        mask_list = []\n",
        "\n",
        "        for value in km.labels_:\n",
        "            if index == value:\n",
        "                mask = True\n",
        "                mask_list.append(mask)\n",
        "            else:\n",
        "              mask = False\n",
        "              mask_list.append(mask)\n",
        "        \n",
        "        return_list = k_nearest_neighbors(X_proj,mask_list,center,n_exemplars)\n",
        "        examplar_indicies.append(return_list)\n",
        "\n",
        "    return examplar_indicies\n",
        "    \n",
        "    #examplar_indicies.append(mask_list)"
      ],
      "execution_count": 0,
      "outputs": []
    },
    {
      "cell_type": "markdown",
      "metadata": {
        "colab_type": "text",
        "id": "yzs_CAuOnIDn",
        "nbgrader": {
          "grade": false,
          "grade_id": "spec-5-1-1",
          "locked": true,
          "schema_version": 3,
          "solution": false,
          "task": false
        }
      },
      "source": [
        "The visible test cell below finds the indices of the nearest neighbors to each cluster center. Then it looks up the vectors for each of these indices and prints the readable version of each vector. Depending on your implementation this cell could take a long time. You do not need to modify this cell."
      ]
    },
    {
      "cell_type": "code",
      "metadata": {
        "colab_type": "code",
        "id": "qmCeF6alowiU",
        "nbgrader": {
          "grade": true,
          "grade_id": "visible-test-5-1",
          "locked": true,
          "points": 1,
          "schema_version": 3,
          "solution": false,
          "task": false
        },
        "outputId": "309968ec-24b2-46a1-a315-102a9902cd87",
        "colab": {
          "base_uri": "https://localhost:8080/",
          "height": 632
        }
      },
      "source": [
        "exemplar_indices = get_exemplars(X, km, 1)\n",
        "exemplars = lookup_docs(reviews_bow, sum(exemplar_indices, []))\n",
        "for exemplar in exemplars:\n",
        "    print(translate_review(exemplar, reviews_dict))"
      ],
      "execution_count": 0,
      "outputs": [
        {
          "output_type": "stream",
          "text": [
            "favorit just just took dog dog know put horribl get piec stop well give made like thing year break near small found bigger eat buy compani happen love treat treat treat mind risk whenev china china chihuahua ate peac similiar \n",
            "also also destroy good hard littl money toy dog worth one one recommend review go get chew chew chew can end got like suppos thing cut nylabon german shepherd find bone durabl vet half lot love rather addit definit differ quickli teeth teeth teeth dog' mention note sharp broken broken spend edg front adult bunch gum tooth softer gsd jag chip occur \n",
            "better better good great mix dog dog dog put reason make tend around probabl year leg found smaller purchas possibl howev seem old fact leav seizur control idea idea hous experi option solut medic separ wrap anxieti anxieti 65lb thundershirt \n",
            "also also apart better design great great great great insid just littl much much much much much much think tri will will will clean clean day dump put sinc sinc sinc use use use use use use use use use use whether worth worth decid despit despit ok one one one one one one price recommend review live make time work work work work work work work go get get get get get still still take well give whole actual can can can end end like line line line second second second second thing thing thing thing togeth even even outsid see small cat cat cat cat cat cat cat cat hot long though though cover soft trash bag buy deal deal everi garbag gave plastic stuck two two howev big best best best chang cleaner expens lot lot lot lot pick pick less less less nice part part part portion side conveni conveni definit definit differ fall fall fall fall hole keep paw stay tear exclus independ star fit anoth everyth box box box box box box box box box box box along must alway pay solid super seen litter litter litter litter litter litter litter litter litter litter litter litter litter litter litter litter litter believ control bottom bottom bottom bottom area saw saw three free clay clay clay clay poop poop poop form issu spend experi system paper sometim sometim without without four robot robot robot robot track track clump scoop scoop scoop wrote floor longer longer pee pee pee requir dust dust dust pan pan pan pan pan pan pan pan pan pan protect lack urin felin felin felin felin felin felin felin felin felin felin felin felin felin highli reorder perfectli household pellet pellet pellet pellet pellet basic odor method pine pine pine pine pine pine pine pine pine pine pine pine pine pine pine pine bother world sift sift sift sift sift sift avoid meant mountain underneath accept overal overal overal obviou easier easier admit special downgrad weekli sawdust sawdust happier happier newspap newspap clean-up tap tap consider kitchen paus hood hood hood edit silica pinch key screen margin alter x-larg compat ness ness van van problemat imperfect \n",
            "just think think toy toy tri will know replac use use use bad bought bought decid despit despit experienc one one order pet store anyth go enough first first get month month actual ask can got like like like like like line suppos thing thing wait want product see cat cat cat cat cat cat cat cat cat cat cat describ need never poor cardboard expect way buy buy buy buy complaint deal deal everi ship howev big realli realli realli lot mani often read sever cat' easi fairli fairli love peopl start tip tip although mind seem ever research fact base guess guess manufactur manufactur shred includ might might pack sale given bottom told saw call empti imagin number applic catnip feather kitti clip four onlin onlin onlin onlin track involv carri nail nail elimin buyer monthli local local local stori bit shorter collect dust other treatment hunch perform scratch avail avail avail ritual regard guy claw refil refil refil refil manag surfac avoid avoid vendor regret parti plagu occasion scream glad petco final repeat direct stretch eaten veterinari intend factor whatsoev extens phone bear suppli plea company' evid tempt tempt evalu entic spat record emeri emeri emeri emeri emeri emeri horror inclin town necessit establish duller duller fraud manicur nonetheless painless overcharg overcharg prospect token brick-and-mortar emori largish \n",
            "good littl squeak think toy toy toy usual will dog sound week goe month piec got like though durabl realli sure love side differ fact sit far bit intent squeaker manag held own hang de-squeak snake \n",
            "fast good just let littl mix much tri tri usual dog normal normal sinc decid time work receiv give made like like thought found never eat food food food pretti pretti love anim feed feed ingredi seen healthi understand coupl hill hill picki ate diet scienc compar easier veterinari field \n",
            "also come just just just littl much much play play play play short someth think tri usual know put regular sinc sinc use use use use pad pad price time either fine well like line need though cover cover sheet purchas purchas buy plastic plastic plastic find howev lot rock fairli nice nice place ruin quickli although new seem us prefer materi fact fit huge risk neither pack pack pack bottom night night issu kept fabric fabric noisi adjust home wind move improv babi babi inexpens room entir visit sleep sleep gap famili glad frequent surround da primari travel woke firm firm waterproof waterproof nap mattress mattress mattress mattress mattress mattress mattress crib crib graco rustl rustl forgo fidget vinci \n",
            "also also come come favorit great great hard insid just just littl remov think think tri will will will clean clean know worth bad bad custom experienc one problem problem reason run terribl bottl time work work work right right get get month month still take take around can fill probabl top year even see small need though everi leak leak leak leak leak posit pull say servic throw durabl pretti realli best annoy easi finger least love peopl new new new old old perfect set set set easili easili noth weight issu toss call later send send cheap option ring ring ring paper tini drop hope awesom coupl correctli proof proof email pictur babi babi shape bring ensur liquid scienc appreci avail drink drink cup cup cup cup cup cup cup cup cup cup cup pressur towel daughter daughter occasion direct direct tighten gather silicon silicon milk opposit thread thread vita vita twist twist receipt straw straw straw straw straw straw oxo playtex playtex zoli zoli zoli \n",
            "away come come disappoint great hard hard just littl roll roll someth think think think think took took took will will will will will next put put put put regular use use major one reason review review run store time time turn twice week work work go go first get get get may month receiv still well around around can exactli got like like like second togeth year leg leg amount even even even even see thought found long need though though though cover bigger mess interest larger way way back back bag bag buy feel feel feel look posit posit posit say two realli realli sure sure gravel gravel lot annoy awkward easi easi easi fairli nice nice nice part part push push push push push provid stay walk walk although mind seem seem research materi stuf air air air match report today box wonder easili might difficult impress pack pack super super super super lock kept test alon especi wish husband immedi option loos fun far figur handl front soon rest trip adjust carri brake feet flat floor floor floor heavi tile longer practic bit bit comfort determin rain rain uncomfort walmart holder lack separ true collaps gener ride updat updat wheel wheel wheel wheel upon ridicul guard car board clear somehow somehow month-old month-old felt stroller stroller stroller stroller stroller stroller stroller stroller stroller stroller stroller stroller stroller stroller stroller stroller stroller cup hesit slide slide fold surfac swivel plan slipperi real underneath har window window seat seat seat seat condit assembl glad son son son easier admit tad imag driveway driveway driveway direct grab buckl hang hang ideal park land land fli pocket bob airport upright mailbox basket height unpack smooth primari flight travel travel travel travel simpl bulki rocki everyday adapt whine depth handi 30lb 30lb backpack sidewalk represent tuck toddler toddler canopi canopi canopi canopi 15lb it.for yield pave peek-a-boo spaciou mall two-way termin carry-on one-hand one-hand one-hand peekaboo b-nimbl \n",
            "also disappoint hard littl tri use use use use use use learn make now first month well can can can like product product thought long stick help back type went love place new new fact everyth perfect solv inform lesson older older site head continu issu fabric practic babi babi babi video video worri wrap carrier youtub flop born born backpack intimid mobi mobi \n",
            "abl abl also also also also also come come come come design design great great great hard hard just just just just just lb lb lb littl littl much short someth think tri will will will will will will clean clean clean next next next next put use use use use use use use water absorb low one one one one one one one pad pad pad pad pad pad price problem problem review run make make make make now now now now time time time work work go go go light light right right right right right enough enough first first first get get get get get get get may still take take well well well well well actual averag can can can can can can can can can can extra high high high high high like like like like like like like like like like like like like line line line want want want year year even even even even product red see see see small small small found long need never never though though though though though block bigger smaller smaller purchas purchas way way back buy everi look look look look look look look posit posit two two find find howev howev big big extrem minut realli realli sure brand brand compani best best chang expens lot mani pick rock across easi easi easi easi easi easi easi love love nice nice part peopl place side side side side tip consid fall fall provid although seem us us us cheaper kid kid list research search old fit fit fit fit fit fit fit fit anoth anoth anoth anoth anoth attach base concern everyth market name box huge point point import wonder along easili easili rais rear rear safe safe sell oh person person certifi pay solid solid solid super super super super super super super super weight weight weight older serious slightli breath bottom bottom head head head head area three three stand test test test wing shock level level sit sit sit mirror miss spend fabric fabric fabric fabric limit limit cheap cheap clip clip husband latch latch option option system loos far without four four door front rest rest tini tini adjust drop hope instal instal instal instal instal instal instal instal instal instal instal elimin elimin face center center center correctli correctli safeti heavi heavi toxic toxic bit bit move move move move featur prevent quick quick quick uncomfort zone babi babi wipe expert bring flaw yet yet knew room upon click click press press forward forward strap strap strap strap strap strap strap car car car car car car car car car car car car car car car car car clear chemic method felt felt felt felt felt felt felt premium premium automat thin somewhat insert insert guy guy wide foam challeng slide airlin airlin carrier fold narrow narrow biggest directli plan pro cinch towel har window window window seat seat seat seat seat seat seat seat seat seat seat seat seat seat seat seat seat seat seat seat seat seat seat seat seat seat seat seat seat seat seat seat seat seat seat seat seat seat seat seat seat seat seat seat seat seat seat seat seat seat seat seat seat black behind behind behind frame frame encas climb climb eas son son son son son easier final dye shoulder shoulder shoulder shoulder tight tighten rise specif waaay fume mode appropri 40lb child' combin extend asleep asleep built built built built built peg tilt correct wobbl wobbl afford con comparison cool cool height height height height height height footprint tall tall tall tall travel travel reclin reclin reclin 70lb 70lb chest chest 20lb tricki driver alert child child child child child child repel crumpl crumpl backward backseat comfi infant infant infant infant angl angl solidli impact impact nap passeng passeng armpit restraint headrest headrest headrest view copiou convert sedan sedan stack race 45lb 45lb restrain ouch clincher lean rigid notabl tan outgrow outgrow 22lb conduc heaviest ff ff ff ff ff ff droop nicer booster saturn brag 120lb thigh ion jersey 24lb looong britax britax crotch perego diono diono diono kiddo kiddo prorid radian radian radian radian rxt recaro recaro re-thread rf rf rf rf rf rf rf rf rf rf duffl clek clek clek foonf foonf torpedo \n",
            "also design great great great great insid just just littl open open open seam short squeez tri day full put put replac use use use use worth despit one one one anyth now now time time time twice week work work go enough first get get get get receiv still well can can end item line year year near even outsid outsid product product size size size cut though offer smaller larger back bag bag buy hand plastic purpos smell smell howev past chang chang chang chang expens lot mani type easi love love differ differ fall fall packag new new truli case fit air anoth color name alreadi alway appear appear blue liter ago freshen bottom idea free embed form issu issu empti empti hous hous kept option sometim sometim without geni geni geni geni handl close close drop white floor floor correctli correctli pee move except babi ii ii flaw worri room serv lid arm hammer odor odor diaper diaper diaper diaper diaper diaper diaper diaper diaper diaper diaper diaper diaper diaper hesit shower refil refil forgot wide gap fold gag black vine blade son main flap liner shove dirti aspect opportun pail pail pail alert child blend elit elit mask poopi newborn time.overal munchkin playroom seamlessli nurseri nurseri \n",
            "came come great remov know one one make work get want want need bigger smaller purchas everi sure part part part pump pump newer standard horn ident mom mom shield \n",
            "also also apart better come come come disappoint good hard insid insid insid just just just larg mix mix tri will clean day dish replac use use use use use use use complet one one problem problem problem recommend recommend recommend recommend review review review review review anyth anyth bottl bottl bottl bottl bottl bottl bottl bottl bottl bottl bottl bottl bottl bottl bottl bottl bottl bottl cap cap cap cap cap now now week go enough first get month month piec receiv still give made whole can can can can can check check end got like like said thing amount even even see see size size thought thought long need need never purchas purchas purchas brush brush brush buy hand leak leak leak leak leak cheapli throw brand question cleaner cleaner lot mani read read read read troubl went grip hold hold mouth nice part part part part part part part start differ hole almost almost almost seem seem feed formula kid favor old fit anoth set today alreadi along easili easili easili includ includ includ parent alway mention respons tell zero zero head mold mold moldi three grant powder constantli instead level level delux system flow without figur onlin cloth concentr front bare disk doubl bit prevent babi other cute unus updat wash room soap breast children children aid bother shower challeng directli vs laugh confus silli son final visibl disc dishwash dishwash dishwash discolor discolor specif inner reach gift dr accessori thinner tongu basket basket basket comparison skinni travel travel travel travel mom mom mom mom fair reduct pipe pipe pipe crevic instant complic allevi regist vent ventil newborn nippl nippl nippl nippl nippl brown' colic colicki colicki cylindr inconsol thrust premix \n",
            "favorit just will know recommend now now get month receiv well well actual can can though though soft soft plastic plastic sure pick nice side start anim seem star star star stuf easili blue liter older night green coverag adopt produc produc beauti everywher plush becom becom detail wall highli turtl turtl room entir lightweight none shower educ daughter daughter beyond fantast ceil faint project project clock shell shell sky undersid sheer amber projector constel \n",
            "apart apart come come good insid just just just littl littl seam seam seam use use live now stuff stuff time week get take rip whole can check fill like like thing want want year year size need summer bag bag bag bag bag bag bag everi look look find big big lot went hold place place start stay new seem old strong pack pack lose cloth choic trip home stink floor effort fell style style self plenti elsewher volum upright con stiffer bag.if transport transport unload supris constanli duffl duffl 2013the \n",
            "also disappoint great larg littl play think know sinc order problem similar can last last like like top top year leg even red size need summer summer way everi look find pretti realli half went caus love nice walk fit otherwis perfect qualiti super wrong pain hope shoe shoe shoe shoe feet bit protect cute strap meet rough pair sole sole cushion leather daughter buckl foot child' decor wore wore daughter' daughter' tab thread curv curv ankl rite rite unnecessarili playground blister blister stride stride stride grippi fisherman fisherman sandal sandal \n",
            "come just littl littl littl littl much much funni put regular return return review either fine fine fine still well got high like like like like thing thing want want want even even size small expect smaller purchas hand look shini big pretti realli expens sock nice consid consid keep walk pass search materi fit fit color guess due might neither area wear thick especi standard kind shoe feet feet slip rain rain rain rain rain rain rain typic pour style encourag desper desper wiggl btw rich eleph height skinni clunki clunki boot boot boot boot boot boot boot boot boot boot arch sway flatter flatter spectacular passabl jean hurrican calv rainboot rainboot \n",
            "design disappoint disappoint good insid just just much someth took know know know normal put bad left one run right get well give actual can like like thing break size size size small thought need never bigger smaller purchas purchas purchas buy buy feel look look howev mine pretti realli realli realli realli etc pick read love love love push differ measur notic walk ever someon case fit fit color alreadi noth alway slightli touch wear wear wear issu eventu pain pain without onlin outfit shoe shoe shoe shoe shoe shoe shoe shoe shoe shoe shoe shoe shoe feet feet bit bit support uncomfort cute odd forward pair pair pair children somewhat tom tom tom son hurt foot foot heart wore child snug snug comfi heel heel heel profession stripe mission mission navi umbrella plung plantar plantar fasciiti fasciiti \n",
            "think next use well well last like want year leg leg buy look look howev nice start fall hole fit color fade fade wear fabric especi bit bit black held pile pile casual \n",
            "disappoint just sorri will return one one one price live go right take can can check last like like want need poor third buy hand look possibl pull say realli realli realli read read read went annoy easi nice pleas star everyth import noth sell person issu issu crazi kind bare beauti watch watch watch watch watch watch watch weekend basic compar prepar struggl execut fix justifi faint screen screen angl hey view it.thi contrast gripe macy' \n",
            "also also good larg much think order order order run plu month extra top size size size small larger two howev howev nice nice materi fit qualiti weight wear loos known process tight snug junior \n",
            "good littl seam someth think tri tri use decid review run run run make time time may well give made made around found long look howev howev realli read sock sock sock sock sock sock love new star materi due dont given wear hous toe toe toe toe toe toe toe pain everyon four tini feet uncomfort bent shape shape shape perfectli perfectli irrit individu pair thin awar extend apprehens twist compart discomfort injinji \n",
            "also better good great think will will will bought bought well can fill like suppos size purchas back happen pleas band materi fit wear front stabil bit support lack true strap overal dd dd primari width nurs bra bra bra underwir anita \n",
            "also good just remov tri dish use one one recommend make time fill item tank thing though purchas chang cleaner cleaner cleaner cleaner etc lot easi mean base sell super chose rest requir other salt liquid household soap bake soda diamond overal vinegar vinegar heavili cd restart windex tarnish jeweleri \n",
            "just open will will recommend make well give matter even size describ bigger soft arriv look fairli nice definit provid tomorrow materi fit absolut slightli wear beauti beauti beauti except pictur shape ladi odor foul bodi earli dress dress dress dress prettier hug \n",
            "also also better disappoint good good hard much open someth know opinion put put use use bought one price recommend now go fine first receiv still well well made made actual actual can like like like year break care even flashlight product product offer expect purchas buy hand look howev extrem sever sever easi hold less link link part peopl keep keep almost us cheaper mostli fit today sensit friend alway appear impress weight believ call rang sharp sharp sharp edg edg metal metal option loos handl coupl face center heavi chines bit recent finish finish pictur quit other darker knife knife knife knife knife knife knife knife knife satisfi serv decent decent decent insert guy guy action manag diamond overal blade blade blade stone load tight pocket incred steel angl coars ergonom sharpen sharpen sharpen razor smith rippl knive knive knive lockup edc edc kershaw crkt crkt sharpmak sharpmak 8cr13mov crkt' \n",
            "come fast favorit larg medium someth think will will use one one add make now time time time enough first first first still made got like probabl outsid size size unfortun hot hot weather feel feel feel feel pull smell realli brand mayb least nice nice rather notic notic new seem seem ever favor materi materi fit fit color fade hit wear sit fabric wish bit quit uncomfort worn sun gone wash tighter warmer sunlight shoulder fiber closet textur textur textur wore wore broad bamboo sag unusu shirt shirt shirt shirt shirt shirt shirt shirt looser statu t-shirt t-shirt \n",
            "away money took took will day next put use use one recommend straight get brass bubbl dollar dollar item even expect arriv arriv plastic ship ship minut power ahead easi less keep mind fit spend screw without roughli standard front instal round bit bit highli approxim date bill complain target wrap factori loosen loosen desir wiggl slower punch tool budget upgrad cloud surprisingli squar hell estim sight sight sight sight sight planet arrow meter mallet consciou fo standbi gerber optic loctit shooter truglo tfo tfo tfo \n",
            "also good good just just littl littl mix someth think took will day know normal return sinc sore water water bad complet ok one one one reason recommend review six six twice week goe month take take take take take well within give give whole ask got hour hour last suppos product product product thought thought build help way back feel possibl say howev power realli sure past mayb mayb read effect els happen happen peopl pill side start consid almost research star everyth motor seller weight ago control wrong suggest tell idea idea form later lose husband system without onlin hope drive bit bit stress other approxim blood write flush heap teaspoon supplement supplement vitamin diet meet felt felt felt felt reaction somewhat lip glass shot confus b12 b12 b12 lift beyond muscl account dr gym defici seemingli unsur physic compel numb mental pm harmless wrung bcaa bcaa \n",
            "weigh put bought bought price reason work either around exactli like product need back mayb happen start mean base sale tell kept send number main paperwork 1st jiggl garag view scale \n",
            "also better design fast just much think took will will will clean next opinion replac replac sound use water price recommend recommend review similar twice get get get get month month take well give around closer cost cours end like like like probabl probabl want year product see long long need need need shave shave shave shave shave shave shave expect way brush everi feel feel hand hand say pretti brand chang chang often result rins love love nearli peopl new seem fat talk case guess summari post surpris pay older head head continu done experi experi faster close close close close unit hope face job job backup pop updat rel soap decent compar overal thorough blade blade blade blade doubt seri main retir clunki shall effici prefac mid smoothli sleek yield yield pivot shaver shaver shaver shaver shaver enamor remington remington remington braun braun braun braun norelco norelco norelco norelco norelco norelco norelco norelco norelco norelco norelco arcitec arcitec \n",
            "better good great mix much someth tri will regular use water bad bought one one one price recommend review similar make now time go first month give give around end high like like like like like top product though way feel feel feel feel two two pound realli brand chang went effect less less differ keep notic suspect mind seem protein protein protein protein protein protein star function market market flavor flavor flavor qualiti ago jug jug tell grant thick shake shake instead option far sweet sweet sweet sweet longer bit intens intens tast tast tast gone butter peanut satisfi substanc regardless depart regard artifici artifici magic ideal readi chocol milk drastic company' whey sweeten equal equal blunt 2lb offens physiqu \n",
            "come great just larg roll will will use absorb one work work enough get get still well well around can last probabl probabl probabl red long descript rubber purchas contain look say strip find durabl pretti easi less nice peopl although us kid sensit strong easili difficult natur pack qualiti slightli wound especi without known medic pictur valu gener worri irrit yet clearli supplier bother wrap wrap wrap bore wide beat overli overli self mild main specif decad written bleed cling multi-color cent latex latex latex reconsid zoom undon likewis sweati \n"
          ],
          "name": "stdout"
        }
      ]
    },
    {
      "cell_type": "markdown",
      "metadata": {
        "colab_type": "text",
        "id": "09MuIumNqkyU",
        "nbgrader": {
          "grade": false,
          "grade_id": "spec-5-2",
          "locked": true,
          "schema_version": 3,
          "solution": false,
          "task": false
        }
      },
      "source": [
        "### Step 5.2: Prepare and run t-SNE\n",
        "\n",
        "The core idea of t-SNE is preserving the relative distances between all of the data points, but showing those distances in very few dimensions. As such, t-SNE compares every data point against every data point (Cartesian product). For the full dataset, that would be about 19 billion comparisons. So we can't do that.\n",
        "\n",
        "But, fortunately, you have already done a lot of work to cluster these data points. If we take a relatively large number of clusters and only consider 30 or so exemplars from each cluster, that should be small enough for t-SNE. The code below assembles the data subset for t-SNE using functions you have written before. Depending on your implementation this cell could take a long time. You do not need to modify this cell."
      ]
    },
    {
      "cell_type": "code",
      "metadata": {
        "colab_type": "code",
        "id": "Drw0G08cPV4j",
        "outputId": "b40f1fb4-9b9c-43e8-88fb-6f639dbabf35",
        "colab": {
          "base_uri": "https://localhost:8080/",
          "height": 34
        }
      },
      "source": [
        "exemplar_indices = get_exemplars(X, km, 30)\n",
        "exemplars = lookup_docs(reviews_tfidf, sum(exemplar_indices, []))\n",
        "for_tsne = densify(exemplars, len(reviews_dict))\n",
        "for_tsne.shape"
      ],
      "execution_count": 0,
      "outputs": [
        {
          "output_type": "execute_result",
          "data": {
            "text/plain": [
              "(1050, 18716)"
            ]
          },
          "metadata": {
            "tags": []
          },
          "execution_count": 95
        }
      ]
    },
    {
      "cell_type": "markdown",
      "metadata": {
        "colab_type": "text",
        "id": "DV2O5ITOtRws"
      },
      "source": [
        "The hyperparameters for t-SNE that I used to get a pretty picture are given below. All you need to do is look up the command to train the t-SNE model, which is given in the [API](https://scikit-learn.org/stable/modules/generated/sklearn.manifold.TSNE.html). Call your t-SNE vectors `embeddings_2d`."
      ]
    },
    {
      "cell_type": "code",
      "metadata": {
        "colab_type": "code",
        "id": "fb9lWlvaQDKT",
        "nbgrader": {
          "grade": false,
          "grade_id": "answer-5-2",
          "locked": false,
          "schema_version": 3,
          "solution": true,
          "task": false
        },
        "outputId": "364b12a6-db10-46ad-9db2-4d497d1571e4",
        "colab": {
          "base_uri": "https://localhost:8080/",
          "height": 136
        }
      },
      "source": [
        "# answer 5.2\n",
        "# TODO: Run t-SNE\n",
        "tsne_model_2d = TSNE(perplexity=20, n_components=2, init='pca', n_iter=3500, random_state=1911)\n",
        "embeddings_2d = tsne_model_2d.fit_transform(for_tsne)\n",
        "print(embeddings_2d)"
      ],
      "execution_count": 0,
      "outputs": [
        {
          "output_type": "stream",
          "text": [
            "[[-38.127148   -27.795916  ]\n",
            " [-28.596403   -11.88707   ]\n",
            " [-38.129326   -27.823748  ]\n",
            " ...\n",
            " [-13.8688965   -8.404951  ]\n",
            " [ 42.503136    33.078354  ]\n",
            " [  7.4058647   -0.12187579]]\n"
          ],
          "name": "stdout"
        }
      ]
    },
    {
      "cell_type": "markdown",
      "metadata": {
        "colab_type": "text",
        "id": "XgfDd2btu1f4",
        "nbgrader": {
          "grade": false,
          "grade_id": "spec-5-3",
          "locked": true,
          "schema_version": 3,
          "solution": false,
          "task": false
        }
      },
      "source": [
        "### Step 5.3: Color the points\n",
        "\n",
        "Some code to plot the t-SNE vectors is given below, but it won't look very pretty yet because we have not decided on a color scheme for the points. We will implement two options."
      ]
    },
    {
      "cell_type": "code",
      "metadata": {
        "colab_type": "code",
        "id": "x8TBFcnGuzAI",
        "colab": {}
      },
      "source": [
        "def tsne_plot(embedding_clusters, a):\n",
        "    plt.figure(figsize=(16, 9))\n",
        "    colors = cm.rainbow(np.linspace(0, 1, len(embedding_clusters)))\n",
        "    for embeddings, color in zip(embedding_clusters, colors):\n",
        "        x = embeddings[:, 0]\n",
        "        y = embeddings[:, 1]\n",
        "        plt.scatter(x, y, c=[color]*len(x), alpha=a)\n",
        "    plt.show()"
      ],
      "execution_count": 0,
      "outputs": []
    },
    {
      "cell_type": "markdown",
      "metadata": {
        "colab_type": "text",
        "id": "kUbdubT3vR2r",
        "nbgrader": {
          "grade": false,
          "grade_id": "spec-5-3-1",
          "locked": true,
          "schema_version": 3,
          "solution": false,
          "task": false
        }
      },
      "source": [
        "#### Step 5.3.1: By cluster membership\n",
        "\n",
        "The most straighforward choice would be to color a point according to the k-means cluster to which it was assigned. k-means is based on Euclidean distance and t-SNE is based on angular distance, so there should be some, but not total, consistency between the two algorithms.\n",
        "\n",
        "`get_exemplars` originally had a list of lists of indices, but these had to be flattened for `lookup_docs`. Therefore, you just need to re-group the points into clusters. There are exactly 30 points in each cluster, so there are many ways to do this. If you want an extra challenge, you can solve this part without using the magic number 30. But it is not required and will not affect your homework score.\n",
        "\n",
        "Call the re-grouped t-SNE vectors `embeddings`."
      ]
    },
    {
      "cell_type": "code",
      "metadata": {
        "colab_type": "code",
        "id": "hwjNAgVFySLu",
        "nbgrader": {
          "grade": false,
          "grade_id": "answer-5-3-1",
          "locked": false,
          "schema_version": 3,
          "solution": true,
          "task": false
        },
        "colab": {}
      },
      "source": [
        "# answer 5.3.1\n",
        "# TODO: group the t-SNE embeddings by cluster membership\n",
        "embeddings = []\n",
        "embeddings = np.array_split(embeddings_2d, 35, axis = 0)"
      ],
      "execution_count": 0,
      "outputs": []
    },
    {
      "cell_type": "code",
      "metadata": {
        "colab_type": "code",
        "id": "d9iZmqSYvKB_",
        "nbgrader": {
          "grade": true,
          "grade_id": "visible-test-5-3-1",
          "locked": true,
          "points": 1,
          "schema_version": 3,
          "solution": false,
          "task": false
        },
        "outputId": "7eab5253-788e-4078-af82-b8fc1512e858",
        "colab": {
          "base_uri": "https://localhost:8080/",
          "height": 537
        }
      },
      "source": [
        "tsne_plot(embeddings, 0.7)"
      ],
      "execution_count": 0,
      "outputs": [
        {
          "output_type": "display_data",
          "data": {
            "image/png": "[encoded data removed]",
            "text/plain": [
              "<Figure size 1152x648 with 1 Axes>"
            ]
          },
          "metadata": {
            "tags": []
          }
        }
      ]
    },
    {
      "cell_type": "markdown",
      "metadata": {
        "colab_type": "text",
        "id": "l1beI48Tw-KK",
        "nbgrader": {
          "grade": false,
          "grade_id": "spec-5-3-2",
          "locked": true,
          "schema_version": 3,
          "solution": false,
          "task": false
        }
      },
      "source": [
        "#### Step 5.3.2 By star rating\n",
        "\n",
        "Now as a finale, group the reviews by star rating. When you are done, `embeddings` should have a length of five. Then, redraw the plot."
      ]
    },
    {
      "cell_type": "code",
      "metadata": {
        "colab_type": "code",
        "id": "qs9idX2wySN4",
        "nbgrader": {
          "grade": false,
          "grade_id": "answer-5-3-2",
          "locked": false,
          "schema_version": 3,
          "solution": true,
          "task": false
        },
        "colab": {}
      },
      "source": [
        "# answer 5.3.2\n",
        "# TODO: group the t-SNE embeddings by star rating\n",
        "embeddings = [[],[],[],[],[]]\n",
        "temp_list = []\n",
        "\n",
        "#get the indices of the start ratings that are subsetted\n",
        "for index in exemplar_indices:\n",
        "    temp_list.append(y[index])\n",
        "#print(len(temp_list))\n",
        "\n",
        "#make the array of arrays with point data 35 arrays of length 30\n",
        "temp_embeddings = np.array_split(embeddings_2d, 35, axis = 0)\n",
        "\n",
        "#sort array of array into star-rating buckets\n",
        "for index, list_of_ratings in enumerate(temp_list):\n",
        "  #print('index', index)\n",
        "  for i, rating_in_list in enumerate(list_of_ratings):\n",
        "      #print('rating',i)\n",
        "      if rating_in_list == 1:\n",
        "          #print('rating in list = 1')\n",
        "          #print(temp_embeddings[index][i])\n",
        "          temp_item = temp_embeddings[index][i]\n",
        "          embeddings[0].append(temp_item)\n",
        "          #print(embeddings[0])\n",
        "      elif rating_in_list == 2:\n",
        "          temp_item = temp_embeddings[index][i]\n",
        "          embeddings[1].append(temp_item)\n",
        "      elif rating_in_list == 3:\n",
        "          temp_item = temp_embeddings[index][i]\n",
        "          embeddings[2].append(temp_item)\n",
        "      elif rating_in_list == 4:\n",
        "          temp_item = temp_embeddings[index][i]\n",
        "          embeddings[3].append(temp_item)\n",
        "      else:\n",
        "          temp_item = temp_embeddings[index][i]\n",
        "          embeddings[4].append(temp_item)\n",
        "\n",
        "embeddings[0]= np.vstack(embeddings[0])\n",
        "embeddings[1]= np.vstack(embeddings[1])\n",
        "embeddings[2]= np.vstack(embeddings[2])\n",
        "embeddings[3]= np.vstack(embeddings[3])\n",
        "embeddings[4]= np.vstack(embeddings[4])"
      ],
      "execution_count": 0,
      "outputs": []
    },
    {
      "cell_type": "code",
      "metadata": {
        "colab_type": "code",
        "id": "oyDfy4i_QQUa",
        "nbgrader": {
          "grade": true,
          "grade_id": "visible-test-5-3-2",
          "locked": true,
          "points": 1,
          "schema_version": 3,
          "solution": false,
          "task": false
        },
        "outputId": "d825f544-fa19-4c4f-a279-ddddb8735a18",
        "colab": {
          "base_uri": "https://localhost:8080/",
          "height": 537
        }
      },
      "source": [
        "tsne_plot(embeddings, 0.7)"
      ],
      "execution_count": 0,
      "outputs": [
        {
          "output_type": "display_data",
          "data": {
            "image/png": "[encoded data removed]",
            "text/plain": [
              "<Figure size 1152x648 with 1 Axes>"
            ]
          },
          "metadata": {
            "tags": []
          }
        }
      ]
    },
    {
      "cell_type": "markdown",
      "metadata": {
        "colab_type": "text",
        "id": "ZbCFAGi_xdlX",
        "nbgrader": {
          "grade": false,
          "grade_id": "spec-5-3-3",
          "locked": true,
          "schema_version": 3,
          "solution": false,
          "task": false
        }
      },
      "source": [
        "As you can see, the clusters formed by k-means and t-SNE do not seem to correspond to the star ratings. This pretty, but somewhat unhappy standpoint is where Homework 4 ends and your project begins.\n",
        "\n",
        "What kinds of analyses have we not tried? What structure is still hidden in these reviews? Can you infer how these 100,000 reviews were selected? Can something fancier than a random forest have higher accuracy in predicting the star rating?\n",
        "\n",
        "For your project, your task is to put together an interesting notebook about this dataset, similar to this one, the other homework notebooks from this class, or articles on [towardsdatascience.com](https://towardsdatascience.com/). The notebook should explain what you did in such a way that a non-technical person can read it. As such, your project will be manually graded as a work of data science communication. We hope that you can use your project notebook as something that you can show off in data science job interviews and the like. \n",
        "\n",
        "Congratulations on all of your work so far! Five stars for you!"
      ]
    }
  ]
}